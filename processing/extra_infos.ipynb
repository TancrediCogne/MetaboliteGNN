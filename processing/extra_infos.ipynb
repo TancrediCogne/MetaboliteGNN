{
 "cells": [
  {
   "cell_type": "code",
   "execution_count": 1,
   "metadata": {},
   "outputs": [],
   "source": [
    "import numpy as np\n",
    "import pandas as pd\n"
   ]
  },
  {
   "cell_type": "code",
   "execution_count": 2,
   "metadata": {},
   "outputs": [],
   "source": [
    "quantified_detected_IDs = np.load(\"quantified_detected_IDs.npy\")"
   ]
  },
  {
   "cell_type": "code",
   "execution_count": 3,
   "metadata": {},
   "outputs": [
    {
     "name": "stderr",
     "output_type": "stream",
     "text": [
      "/var/folders/f1/fcqwxxfn4sqbczpwghg752_c0000gn/T/ipykernel_18223/3039315447.py:1: DtypeWarning: Columns (8,9,10,11,12,13,14,15,16,17,18,19,20,21,22,23,24,25,26,27,28,32,33,35,36,39,40,42,43,44) have mixed types. Specify dtype option on import or set low_memory=False.\n",
      "  infos  = pd.read_csv(\"preprocessed_data/metabolites_infos.csv\")\n"
     ]
    }
   ],
   "source": [
    "infos  = pd.read_csv(\"preprocessed_data/metabolites_infos.csv\")"
   ]
  },
  {
   "cell_type": "code",
   "execution_count": 15,
   "metadata": {},
   "outputs": [
    {
     "data": {
      "text/plain": [
       "accession                      24309\n",
       "status                         24309\n",
       "Avg mol. weight                24307\n",
       "iupac_name                     24196\n",
       "chemical_formula               24309\n",
       "InChIKey                       24309\n",
       "InChI                          24309\n",
       "smiles                         24309\n",
       "kingdom                        15552\n",
       "direct_parent                  15552\n",
       "super_class                    15552\n",
       "class                          15545\n",
       "sub_class                      15246\n",
       "molecular_framework            15489\n",
       "alternative_parents            15476\n",
       "substituents                   15495\n",
       "external_descriptors             688\n",
       "state                          12957\n",
       "exp_melting_point                606\n",
       "exp_boiling_point                306\n",
       "exp_water_solubility             692\n",
       "exp_logP                         576\n",
       "cellular_locations              1415\n",
       "biospecimen_locations           8096\n",
       "tissue_locations                 156\n",
       "pathway_name                    9247\n",
       "pathway_smpdb_id                9247\n",
       "pathway_kegg_map_id                3\n",
       "drugbank                          58\n",
       "chebi_id                         834\n",
       "pubchem                        10942\n",
       "phenol_explorer_compound_id       28\n",
       "food                           12001\n",
       "knapsack                         619\n",
       "chemspider                      1296\n",
       "kegg                             285\n",
       "biocyc_id                         80\n",
       "bigg                               0\n",
       "metlin_id                          0\n",
       "pdb_id                            41\n",
       "vmh_id                            56\n",
       "fbonto_id                          0\n",
       "diseases                        7821\n",
       "diseases_omim                   7805\n",
       "enzymes                          160\n",
       "dtype: int64"
      ]
     },
     "execution_count": 15,
     "metadata": {},
     "output_type": "execute_result"
    }
   ],
   "source": [
    "filtered_infos = infos[infos['accession'].isin(quantified_detected_IDs)]\n",
    "filtered_infos.count()"
   ]
  },
  {
   "cell_type": "code",
   "execution_count": 27,
   "metadata": {},
   "outputs": [],
   "source": [
    "valid_ids = np.load(\"processed_data_04_23_24/valid_ids.csv.npy\")"
   ]
  },
  {
   "cell_type": "code",
   "execution_count": 28,
   "metadata": {},
   "outputs": [
    {
     "data": {
      "text/plain": [
       "status\n",
       "b'expected'     2464\n",
       "b'predicted'     921\n",
       "Name: count, dtype: int64"
      ]
     },
     "execution_count": 28,
     "metadata": {},
     "output_type": "execute_result"
    }
   ],
   "source": [
    "filtered_infos = infos[infos['accession'].isin(valid_ids)]\n",
    "filtered_infos['status'].value_counts()"
   ]
  }
 ],
 "metadata": {
  "kernelspec": {
   "display_name": "my-rdkit-env",
   "language": "python",
   "name": "python3"
  },
  "language_info": {
   "codemirror_mode": {
    "name": "ipython",
    "version": 3
   },
   "file_extension": ".py",
   "mimetype": "text/x-python",
   "name": "python",
   "nbconvert_exporter": "python",
   "pygments_lexer": "ipython3",
   "version": "3.11.8"
  }
 },
 "nbformat": 4,
 "nbformat_minor": 2
}
