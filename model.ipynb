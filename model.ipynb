{
  "cells": [
    {
      "cell_type": "code",
      "execution_count": 1,
      "metadata": {
        "colab": {
          "base_uri": "https://localhost:8080/"
        },
        "id": "rmYoHR8AD_81",
        "outputId": "59f516e4-ea04-415d-b558-d8d941e9f543"
      },
      "outputs": [
        {
          "name": "stderr",
          "output_type": "stream",
          "text": [
            "/Users/tancredicogne/.local/lib/python3.9/site-packages/networkx/utils/backends.py:135: RuntimeWarning: networkx backend defined more than once: nx-loopback\n",
            "  backends.update(_get_backends(\"networkx.backends\"))\n"
          ]
        }
      ],
      "source": [
        "# IMPORTS (INCLUDE)\n",
        "import numpy as np\n",
        "import pandas as pd\n",
        "from tqdm import tqdm\n",
        "import copy\n",
        "import os\n",
        "\n",
        "import torch\n",
        "from torch_geometric.loader import DataLoader\n",
        "from torch_geometric.data import Data\n",
        "from torch.utils.data import Dataset, random_split\n",
        "import torch.optim as optim\n",
        "from torch_geometric.nn import GATConv, global_add_pool, GCNConv, GINConv\n",
        "import torch.nn.functional as F\n",
        "from torch.nn import Sequential, Linear, ReLU, BatchNorm1d as BN\n",
        "from torch_geometric.explain import Explainer, GNNExplainer\n",
        "\n",
        "from sklearn.metrics import f1_score, recall_score\n",
        "from sklearn.model_selection import KFold\n",
        "from sklearn.preprocessing import StandardScaler\n",
        "import matplotlib.pyplot as plt\n",
        "from matplotlib.colors import Normalize\n",
        "from matplotlib.cm import ScalarMappable\n",
        "import networkx as nx\n",
        "from PyAstronomy import pyasl\n",
        "from rdkit import Chem\n",
        "from rdkit.Chem import Draw\n",
        "import seaborn as sns"
      ]
    },
    {
      "cell_type": "code",
      "execution_count": 4,
      "metadata": {},
      "outputs": [
        {
          "data": {
            "text/plain": [
              "array(['Adipose tissue', 'Adiposome', 'All tissues', 'Animal', 'Blood',\n",
              "       'Brain', 'Cell membrane', 'Cerebrospinal fluid', 'Cucurbitaceae',\n",
              "       'Cytoplasm', 'Endogenous', 'Extracellular', 'Fabaceae', 'Feces',\n",
              "       'Fibroblast', 'Food', 'Glycine max', 'Hepatic tissue', 'Ingestion',\n",
              "       'Intracellular membrane', 'Kidney', 'Liver', 'Membrane',\n",
              "       'Mitochondria', 'Nerve cell', 'Placenta', 'Poaceae', 'Prostate',\n",
              "       'Saliva', 'Theobroma cacao', 'Urine'], dtype=object)"
            ]
          },
          "execution_count": 4,
          "metadata": {},
          "output_type": "execute_result"
        }
      ],
      "source": [
        "np.load(\"data/preprocessed_data/filtered_nodes/filtered_terminal_disposition_nodes_mad.npy\", allow_pickle=True)\n",
        "# cell membrane is index 6"
      ]
    },
    {
      "cell_type": "code",
      "execution_count": 76,
      "metadata": {
        "id": "Ptv7Blc4j_2j"
      },
      "outputs": [],
      "source": [
        "# CLASS DEF (INCLUDE)\n",
        "class GraphDataset(Dataset):\n",
        "    def __init__(self, data_list):\n",
        "        self.dataset = data_list\n",
        "\n",
        "    def __len__(self):\n",
        "        return len(self.dataset)\n",
        "\n",
        "    def __getitem__(self, idx):\n",
        "        return self.dataset[idx]\n",
        "    def get_dataset(self):\n",
        "        return copy.deepcopy(self.dataset)\n",
        "    \n",
        "dataset_date = \"09_02_24\" # TOCHANGE\n",
        "date = \"09_03_24_cell_membrane\"#_cell_membrane\" # TOCHANGE\n",
        "level1_node = \"disposition\" # TOCHANGE\n",
        "level1_node_num = 1 # TOCHANGE\n",
        "graph_embedding_length = 600\n",
        "saving_folder = \"model\" + \"_\" + date + \"_\" + level1_node + \"/\"\n",
        "os.makedirs(saving_folder, exist_ok=True)\n"
      ]
    },
    {
      "cell_type": "code",
      "execution_count": 3,
      "metadata": {
        "id": "4yLq6vUnCLPs"
      },
      "outputs": [],
      "source": [
        "# STRATIFY (INCLUDE)\n",
        "def new_stratify(data, idx_dict, ratio):\n",
        "    test_data = []\n",
        "    train_data = []\n",
        "    rest_data = []\n",
        "\n",
        "    for key, val in idx_dict.items():\n",
        "        if len(val) >= 10:\n",
        "            curr_output = [data[v] for v in val.values]\n",
        "            curr_train, curr_test = random_split(curr_output, ratio)\n",
        "            train_data += curr_train\n",
        "            test_data += curr_test\n",
        "        else:\n",
        "           rest_data += [data[v] for v in val.values]\n",
        "\n",
        "\n",
        "    curr_train, curr_test = random_split(rest_data, ratio)\n",
        "    train_data += curr_train\n",
        "    test_data += curr_test\n",
        "    train_to_remove = []\n",
        "    test_to_remove = []\n",
        "    \n",
        "    for t in train_data:\n",
        "        if t.edge_attr.shape[0] == 1:\n",
        "            train_to_remove.append(t)\n",
        "    for t in test_data:\n",
        "        if t.edge_attr.shape[0] == 1:\n",
        "            test_to_remove.append(t)\n",
        "\n",
        "    train_data = [t for t in train_data if t not in train_to_remove]\n",
        "    test_data = [t for t in test_data if t not in test_to_remove]\n",
        "    return train_data, test_data"
      ]
    },
    {
      "cell_type": "code",
      "execution_count": 6,
      "metadata": {},
      "outputs": [
        {
          "ename": "FileNotFoundError",
          "evalue": "[Errno 2] No such file or directory: 'data_collab_disposition/dataset.pt'",
          "output_type": "error",
          "traceback": [
            "\u001b[0;31m---------------------------------------------------------------------------\u001b[0m",
            "\u001b[0;31mFileNotFoundError\u001b[0m                         Traceback (most recent call last)",
            "\u001b[0;32m/var/folders/f1/fcqwxxfn4sqbczpwghg752_c0000gn/T/ipykernel_54832/3962320260.py\u001b[0m in \u001b[0;36m<cell line: 2>\u001b[0;34m()\u001b[0m\n\u001b[1;32m      1\u001b[0m \u001b[0;31m# RANDOM MODEL (DON'T INCLUDE)\u001b[0m\u001b[0;34m\u001b[0m\u001b[0;34m\u001b[0m\u001b[0m\n\u001b[0;32m----> 2\u001b[0;31m \u001b[0mdataset\u001b[0m \u001b[0;34m=\u001b[0m \u001b[0mtorch\u001b[0m\u001b[0;34m.\u001b[0m\u001b[0mload\u001b[0m\u001b[0;34m(\u001b[0m\u001b[0;34m'data_collab_disposition/dataset.pt'\u001b[0m\u001b[0;34m)\u001b[0m\u001b[0;34m\u001b[0m\u001b[0;34m\u001b[0m\u001b[0m\n\u001b[0m\u001b[1;32m      3\u001b[0m \u001b[0;32mdef\u001b[0m \u001b[0mseed_everything\u001b[0m\u001b[0;34m(\u001b[0m\u001b[0mseed\u001b[0m\u001b[0;34m:\u001b[0m \u001b[0mint\u001b[0m\u001b[0;34m)\u001b[0m\u001b[0;34m:\u001b[0m\u001b[0;34m\u001b[0m\u001b[0;34m\u001b[0m\u001b[0m\n\u001b[1;32m      4\u001b[0m     \u001b[0;32mimport\u001b[0m \u001b[0mrandom\u001b[0m\u001b[0;34m,\u001b[0m \u001b[0mos\u001b[0m\u001b[0;34m\u001b[0m\u001b[0;34m\u001b[0m\u001b[0m\n\u001b[1;32m      5\u001b[0m     \u001b[0;32mimport\u001b[0m \u001b[0mnumpy\u001b[0m \u001b[0;32mas\u001b[0m \u001b[0mnp\u001b[0m\u001b[0;34m\u001b[0m\u001b[0;34m\u001b[0m\u001b[0m\n",
            "\u001b[0;32m~/opt/anaconda3/lib/python3.9/site-packages/torch/serialization.py\u001b[0m in \u001b[0;36mload\u001b[0;34m(f, map_location, pickle_module, weights_only, mmap, **pickle_load_args)\u001b[0m\n\u001b[1;32m    984\u001b[0m         \u001b[0mpickle_load_args\u001b[0m\u001b[0;34m[\u001b[0m\u001b[0;34m'encoding'\u001b[0m\u001b[0;34m]\u001b[0m \u001b[0;34m=\u001b[0m \u001b[0;34m'utf-8'\u001b[0m\u001b[0;34m\u001b[0m\u001b[0;34m\u001b[0m\u001b[0m\n\u001b[1;32m    985\u001b[0m \u001b[0;34m\u001b[0m\u001b[0m\n\u001b[0;32m--> 986\u001b[0;31m     \u001b[0;32mwith\u001b[0m \u001b[0m_open_file_like\u001b[0m\u001b[0;34m(\u001b[0m\u001b[0mf\u001b[0m\u001b[0;34m,\u001b[0m \u001b[0;34m'rb'\u001b[0m\u001b[0;34m)\u001b[0m \u001b[0;32mas\u001b[0m \u001b[0mopened_file\u001b[0m\u001b[0;34m:\u001b[0m\u001b[0;34m\u001b[0m\u001b[0;34m\u001b[0m\u001b[0m\n\u001b[0m\u001b[1;32m    987\u001b[0m         \u001b[0;32mif\u001b[0m \u001b[0m_is_zipfile\u001b[0m\u001b[0;34m(\u001b[0m\u001b[0mopened_file\u001b[0m\u001b[0;34m)\u001b[0m\u001b[0;34m:\u001b[0m\u001b[0;34m\u001b[0m\u001b[0;34m\u001b[0m\u001b[0m\n\u001b[1;32m    988\u001b[0m             \u001b[0;31m# The zipfile reader is going to advance the current file position.\u001b[0m\u001b[0;34m\u001b[0m\u001b[0;34m\u001b[0m\u001b[0m\n",
            "\u001b[0;32m~/opt/anaconda3/lib/python3.9/site-packages/torch/serialization.py\u001b[0m in \u001b[0;36m_open_file_like\u001b[0;34m(name_or_buffer, mode)\u001b[0m\n\u001b[1;32m    433\u001b[0m \u001b[0;32mdef\u001b[0m \u001b[0m_open_file_like\u001b[0m\u001b[0;34m(\u001b[0m\u001b[0mname_or_buffer\u001b[0m\u001b[0;34m,\u001b[0m \u001b[0mmode\u001b[0m\u001b[0;34m)\u001b[0m\u001b[0;34m:\u001b[0m\u001b[0;34m\u001b[0m\u001b[0;34m\u001b[0m\u001b[0m\n\u001b[1;32m    434\u001b[0m     \u001b[0;32mif\u001b[0m \u001b[0m_is_path\u001b[0m\u001b[0;34m(\u001b[0m\u001b[0mname_or_buffer\u001b[0m\u001b[0;34m)\u001b[0m\u001b[0;34m:\u001b[0m\u001b[0;34m\u001b[0m\u001b[0;34m\u001b[0m\u001b[0m\n\u001b[0;32m--> 435\u001b[0;31m         \u001b[0;32mreturn\u001b[0m \u001b[0m_open_file\u001b[0m\u001b[0;34m(\u001b[0m\u001b[0mname_or_buffer\u001b[0m\u001b[0;34m,\u001b[0m \u001b[0mmode\u001b[0m\u001b[0;34m)\u001b[0m\u001b[0;34m\u001b[0m\u001b[0;34m\u001b[0m\u001b[0m\n\u001b[0m\u001b[1;32m    436\u001b[0m     \u001b[0;32melse\u001b[0m\u001b[0;34m:\u001b[0m\u001b[0;34m\u001b[0m\u001b[0;34m\u001b[0m\u001b[0m\n\u001b[1;32m    437\u001b[0m         \u001b[0;32mif\u001b[0m \u001b[0;34m'w'\u001b[0m \u001b[0;32min\u001b[0m \u001b[0mmode\u001b[0m\u001b[0;34m:\u001b[0m\u001b[0;34m\u001b[0m\u001b[0;34m\u001b[0m\u001b[0m\n",
            "\u001b[0;32m~/opt/anaconda3/lib/python3.9/site-packages/torch/serialization.py\u001b[0m in \u001b[0;36m__init__\u001b[0;34m(self, name, mode)\u001b[0m\n\u001b[1;32m    414\u001b[0m \u001b[0;32mclass\u001b[0m \u001b[0m_open_file\u001b[0m\u001b[0;34m(\u001b[0m\u001b[0m_opener\u001b[0m\u001b[0;34m)\u001b[0m\u001b[0;34m:\u001b[0m\u001b[0;34m\u001b[0m\u001b[0;34m\u001b[0m\u001b[0m\n\u001b[1;32m    415\u001b[0m     \u001b[0;32mdef\u001b[0m \u001b[0m__init__\u001b[0m\u001b[0;34m(\u001b[0m\u001b[0mself\u001b[0m\u001b[0;34m,\u001b[0m \u001b[0mname\u001b[0m\u001b[0;34m,\u001b[0m \u001b[0mmode\u001b[0m\u001b[0;34m)\u001b[0m\u001b[0;34m:\u001b[0m\u001b[0;34m\u001b[0m\u001b[0;34m\u001b[0m\u001b[0m\n\u001b[0;32m--> 416\u001b[0;31m         \u001b[0msuper\u001b[0m\u001b[0;34m(\u001b[0m\u001b[0;34m)\u001b[0m\u001b[0;34m.\u001b[0m\u001b[0m__init__\u001b[0m\u001b[0;34m(\u001b[0m\u001b[0mopen\u001b[0m\u001b[0;34m(\u001b[0m\u001b[0mname\u001b[0m\u001b[0;34m,\u001b[0m \u001b[0mmode\u001b[0m\u001b[0;34m)\u001b[0m\u001b[0;34m)\u001b[0m\u001b[0;34m\u001b[0m\u001b[0;34m\u001b[0m\u001b[0m\n\u001b[0m\u001b[1;32m    417\u001b[0m \u001b[0;34m\u001b[0m\u001b[0m\n\u001b[1;32m    418\u001b[0m     \u001b[0;32mdef\u001b[0m \u001b[0m__exit__\u001b[0m\u001b[0;34m(\u001b[0m\u001b[0mself\u001b[0m\u001b[0;34m,\u001b[0m \u001b[0;34m*\u001b[0m\u001b[0margs\u001b[0m\u001b[0;34m)\u001b[0m\u001b[0;34m:\u001b[0m\u001b[0;34m\u001b[0m\u001b[0;34m\u001b[0m\u001b[0m\n",
            "\u001b[0;31mFileNotFoundError\u001b[0m: [Errno 2] No such file or directory: 'data_collab_disposition/dataset.pt'"
          ]
        }
      ],
      "source": [
        "# RANDOM MODEL (DON'T INCLUDE)\n",
        "dataset = torch.load('data_collab_disposition/dataset.pt')\n",
        "def seed_everything(seed: int):\n",
        "    import random, os\n",
        "    import numpy as np\n",
        "    import torch\n",
        "\n",
        "    random.seed(seed)\n",
        "    os.environ['PYTHONHASHSEED'] = str(seed)\n",
        "    np.random.seed(seed)\n",
        "    torch.manual_seed(seed)\n",
        "    torch.cuda.manual_seed(seed)\n",
        "    torch.backends.cudnn.deterministic = True\n",
        "    torch.backends.cudnn.benchmark = True\n",
        "all_f1s= []\n",
        "all_accs= []\n",
        "all_ys = np.zeros((len(dataset), level1_node_num))\n",
        "for idx, d in enumerate(dataset):\n",
        "    all_ys[idx] = d.y\n",
        "for i in range(5):\n",
        "    seed_everything(i)\n",
        "    torch_ran = torch.randint(2, size=(len(dataset), level1_node_num), device='cpu')\n",
        "    f1 = f1_score(all_ys, torch_ran.numpy(), average='macro')\n",
        "    all_f1s.append(f1)\n",
        "    accuracy = np.mean(np.array(all_ys) == torch_ran.numpy())\n",
        "    all_accs.append(accuracy)\n",
        "\n",
        "    \"\"\"\n",
        "    \n",
        "    for i in range(len(dataset)):\n",
        "        torch_ran = torch.randint(2, size=np.array(dataset[i].y).shape, device='cpu')\n",
        "        f1 = f1_score(np.array(dataset[i].y), torch_ran.numpy())\n",
        "        all_f1s.append(f1_score(np.array(dataset[i].y), torch_ran.numpy()))\n",
        "    \"\"\"\n",
        "print(np.mean(np.array(all_f1s)))\n",
        "print(np.std(np.array(all_f1s)))\n",
        "print(\"--------\")\n",
        "print(np.mean(np.array(all_accs)))\n",
        "print(np.std(np.array(all_accs)))\n"
      ]
    },
    {
      "cell_type": "code",
      "execution_count": 4,
      "metadata": {
        "id": "K8W6VOGHS-Zs"
      },
      "outputs": [],
      "source": [
        "# SPLIT SETS (INCLUDE)\n",
        "def split_sets(device='cpu'):\n",
        "  dataset = torch.load('data/processed_data/processed_data_' + dataset_date + '_' + level1_node +'/dataset.pt')\n",
        "  for d in dataset:\n",
        "    x = d.x[:, :3]\n",
        "    scaler = StandardScaler()\n",
        "    scaler.fit(x)\n",
        "    scaled_x = scaler.transform(x)\n",
        "    d.x[:,:3] = torch.tensor(scaled_x)\n",
        "  y_true = pd.read_csv('data/processed_data/processed_data_' + dataset_date + '_' + level1_node +'/filtered_outputs.csv').fillna(False)\n",
        "  df = y_true.drop(['accession'], axis=1)\n",
        "  df['RowString'] = df.astype(str).agg(','.join, axis=1)\n",
        "  index_dict = df.groupby('RowString').groups\n",
        "\n",
        "  dataset_train, dataset_test = new_stratify(dataset, index_dict, [0.9,0.1]) \n",
        "\n",
        "  train_ys = [d.y for d in dataset_train]\n",
        "  train_ys_df = pd.DataFrame(train_ys)\n",
        "  num_pos = train_ys_df.value_counts().values[0]\n",
        "  num_neg = len(train_ys_df) - num_pos\n",
        "  pos_weight = num_neg / num_pos\n",
        "  pos_weight = torch.tensor([pos_weight], dtype=torch.float, device=device)\n",
        "  return dataset_train, dataset_test, pos_weight\n"
      ]
    },
    {
      "cell_type": "code",
      "execution_count": 5,
      "metadata": {},
      "outputs": [],
      "source": [
        "# SPLIT SETS (INCLUDE)\n",
        "# this method is used instead of the previous one if we want to interpret the results and thus look only at one output\n",
        "# if this method is used, everytime the model is created be sure to set the output to 1 instead of the number of nodes in level1node\n",
        "def specific_split_sets(node_to_keep, node_to_keep_idx, device='cpu'):\n",
        "  dataset = torch.load('data/processed_data/processed_data_' + dataset_date + '_' + level1_node +'/dataset.pt')\n",
        "  for d in dataset:\n",
        "    x = d.x[:, :3]\n",
        "    scaler = StandardScaler()\n",
        "    scaler.fit(x)\n",
        "    scaled_x = scaler.transform(x)\n",
        "    d.x[:,:3] = torch.tensor(scaled_x)\n",
        "    \n",
        "  for d in dataset:\n",
        "    node_value = d.y[node_to_keep_idx]\n",
        "    d.y = node_value\n",
        "  y_true = pd.read_csv('data/processed_data/processed_data_'+ dataset_date + '_' + level1_node +'/filtered_outputs.csv').fillna(False)\n",
        "  df = y_true.drop(['accession'], axis=1)\n",
        "  df.filter([node_to_keep])\n",
        "  df['RowString'] = df.astype(str).agg(','.join, axis=1)\n",
        "  index_dict = df.groupby('RowString').groups\n",
        "\n",
        "  dataset_train, dataset_test = new_stratify(dataset, index_dict, [0.9,0.1]) \n",
        "\n",
        "  train_ys = [d.y for d in dataset_train]\n",
        "  train_ys_df = pd.DataFrame(train_ys)\n",
        "  num_pos = train_ys_df.value_counts().values[0]\n",
        "  num_neg = len(train_ys_df) - num_pos\n",
        "  pos_weight = num_neg / num_pos\n",
        "  pos_weight = torch.tensor([pos_weight], dtype=torch.float, device=device)\n",
        "  return dataset_train, dataset_test, pos_weight"
      ]
    },
    {
      "cell_type": "code",
      "execution_count": 43,
      "metadata": {},
      "outputs": [],
      "source": [
        "# GAT MODELS (INCLUDE)\n",
        "class GAT(torch.nn.Module):\n",
        "    def __init__(self, num_features, hidden_channels, heads, output_dim):\n",
        "        super().__init__()\n",
        "        torch.manual_seed(1234567)\n",
        "        self.conv1 = GATConv(num_features, hidden_channels,heads)\n",
        "        self.conv2 = GATConv(heads*hidden_channels, hidden_channels,heads)\n",
        "        self.fc = torch.nn.Linear(heads*hidden_channels + graph_embedding_length, output_dim) # TOCHANGE\n",
        "\n",
        "    def forward(self, x, edge_index, batch, edge_weight, graph_embedding):\n",
        "        x = F.dropout(x, p=0.6, training=self.training)\n",
        "        x = self.conv1(x.float(), edge_index, edge_weight)\n",
        "        x = F.elu(x)\n",
        "        x = F.dropout(x, p=0.6, training=self.training)\n",
        "\n",
        "        x = self.conv2(x, edge_index, edge_weight)\n",
        "        x = global_add_pool(x, batch)\n",
        "        x = torch.concat([x, torch.tensor(np.array(graph_embedding), dtype=torch.float).squeeze(1)], dim=1) # TOCHANGE\n",
        "        x = self.fc(x)\n",
        "        return x\n",
        "    \n",
        "class deepGAT(torch.nn.Module):\n",
        "    def __init__(self, num_features, hidden_channels, heads, output_dim):\n",
        "        super().__init__()\n",
        "        torch.manual_seed(1234567)\n",
        "        self.conv1 = GATConv(num_features, hidden_channels,heads)\n",
        "        self.conv2 = GATConv(heads*hidden_channels, hidden_channels,heads)\n",
        "        self.conv3 = GATConv(heads*hidden_channels, hidden_channels,heads)\n",
        "        self.conv4 = GATConv(heads*hidden_channels, hidden_channels,heads)\n",
        "        self.fc = torch.nn.Linear(heads*hidden_channels + graph_embedding_length, output_dim) # TOCHANGE\n",
        "\n",
        "    def forward(self, x, edge_index, batch, edge_weight, graph_embedding):\n",
        "        x = F.dropout(x, p=0.6, training=self.training)\n",
        "        x = self.conv1(x.float(), edge_index, edge_weight)\n",
        "        x = F.elu(x)\n",
        "        x = F.dropout(x, p=0.6, training=self.training)\n",
        "\n",
        "        x = self.conv2(x, edge_index, edge_weight)\n",
        "        x = F.elu(x)\n",
        "        x = F.dropout(x, p=0.6, training=self.training)\n",
        "\n",
        "        x = self.conv3(x, edge_index, edge_weight)\n",
        "        x = F.elu(x)\n",
        "        x = F.dropout(x, p=0.6, training=self.training)\n",
        "\n",
        "        x = self.conv4(x, edge_index, edge_weight)\n",
        "        x = global_add_pool(x, batch)\n",
        "        x = torch.concat([x, torch.tensor(np.array(graph_embedding), dtype=torch.float).squeeze(1)], dim=1) # TOCHANGE\n",
        "        x = self.fc(x)\n",
        "        return x\n",
        "\n",
        "class GAT_att_weights(torch.nn.Module):\n",
        "    def __init__(self, num_features, hidden_channels, heads, output_dim):\n",
        "        super().__init__()\n",
        "        torch.manual_seed(1234567)\n",
        "        self.conv1 = GATConv(num_features, hidden_channels,heads)\n",
        "        self.conv2 = GATConv(heads*hidden_channels, hidden_channels,heads)\n",
        "        self.fc = torch.nn.Linear(heads*hidden_channels, output_dim)\n",
        "\n",
        "    def forward(self, x, edge_index, batch, edge_weight, graph_embedding):\n",
        "        x = F.dropout(x, p=0.6, training=self.training)\n",
        "        x, weights = self.conv1(x, edge_index, edge_weight, return_attention_weights=True)\n",
        "        weights1_idx, weights1_vals = weights\n",
        "        x = F.elu(x)\n",
        "        x = F.dropout(x, p=0.6, training=self.training)\n",
        "\n",
        "        x, weights = self.conv2(x, edge_index, edge_weight, return_attention_weights=True)\n",
        "        weights2_idx, weights2_vals = weights\n",
        "        x = global_add_pool(x, batch)\n",
        "        #x = torch.concat([x, torch.tensor(np.array(graph_embedding), dtype=torch.float)], dim=1) # for extra info\n",
        "        x = self.fc(x)\n",
        "        return x, weights1_idx, weights1_vals, weights2_idx, weights2_vals\n"
      ]
    },
    {
      "cell_type": "code",
      "execution_count": 11,
      "metadata": {},
      "outputs": [],
      "source": [
        "# GIN MODEL (INCLUDE?)\n",
        "class GIN(torch.nn.Module):\n",
        "    def __init__(self, num_layers, hidden_dim, num_features, output_dim):\n",
        "        super(GIN, self).__init__()\n",
        "        self.conv1 = GINConv(Sequential(\n",
        "            Linear(num_features, hidden_dim),\n",
        "            ReLU(),\n",
        "            Linear(hidden_dim, hidden_dim),\n",
        "            ReLU(),\n",
        "            BN(hidden_dim)), train_eps=True)\n",
        "        self.convs = torch.nn.ModuleList()\n",
        "        for i in range(num_layers - 1):\n",
        "            self.convs.append(\n",
        "                GINConv(Sequential(\n",
        "                    Linear(hidden_dim, hidden_dim),\n",
        "                    ReLU(),\n",
        "                    Linear(hidden_dim, hidden_dim),\n",
        "                    ReLU(),\n",
        "                    BN(hidden_dim),\n",
        "                ),\n",
        "                        train_eps=True))\n",
        "        self.lin1 = Linear(hidden_dim, hidden_dim)#+graph_embedding_length, hidden_dim)\n",
        "        self.lin2 = Linear(hidden_dim, output_dim)\n",
        "\n",
        "    def forward(self, x, edge_index, batch, edge_weight, graph_embedding):\n",
        "        x = self.conv1(x.float(), edge_index)\n",
        "        for conv in self.convs:\n",
        "            x = conv(x, edge_index)\n",
        "        x = global_add_pool(x, batch)\n",
        "        #x = torch.concat([x, torch.tensor(np.array(graph_embedding), dtype=torch.float).squeeze(1)], dim=1) # TOCHANGE\n",
        "        x = F.relu(self.lin1(x))\n",
        "        x = F.dropout(x, p=0.6, training=self.training)\n",
        "        x = self.lin2(x)\n",
        "        return x"
      ]
    },
    {
      "cell_type": "code",
      "execution_count": 32,
      "metadata": {},
      "outputs": [],
      "source": [
        "# GCN MODEL (INCLUDE?)\n",
        "class GCN(torch.nn.Module):\n",
        "    def __init__(self, num_node_features, hidden_dim1, hidden_dim2, output_dim):\n",
        "        super(GCN, self).__init__()\n",
        "        self.conv1 = GCNConv(num_node_features, hidden_dim1)\n",
        "        self.conv2 = GCNConv(hidden_dim1, hidden_dim2)\n",
        "        self.fc = torch.nn.Linear(hidden_dim2, output_dim)# + graph_embedding_length, output_dim) # TOCHANGE\n",
        "\n",
        "    def forward(self, x, edge_index, batch, edge_weight, graph_embedding):\n",
        "        x = torch.relu(self.conv1(x.float(), edge_index, edge_weight))\n",
        "        x = torch.relu(self.conv2(x, edge_index, edge_weight))\n",
        "        x = global_add_pool(x, batch)\n",
        "        #x = torch.concat([x, torch.tensor(np.array(graph_embedding), dtype=torch.float).squeeze(1)], dim=1) # TOCHANGE\n",
        "        x = self.fc(x)\n",
        "        x = F.dropout(x, p=0.6, training=self.training)\n",
        "        return x"
      ]
    },
    {
      "cell_type": "code",
      "execution_count": 8,
      "metadata": {},
      "outputs": [],
      "source": [
        "\"\"\"EGNN Implementation from Satorras et al. https://github.com/vgsatorras/egnn\"\"\"\n",
        "import torch.nn as nn\n",
        "\n",
        "\n",
        "def unsorted_segment_sum(data, segment_ids, num_segments):\n",
        "    result_shape = (num_segments, data.size(1))\n",
        "    result = data.new_full(result_shape, 0)  # Init empty result tensor.\n",
        "    segment_ids = segment_ids.unsqueeze(-1).expand(-1, data.size(1))\n",
        "    result.scatter_add_(0, segment_ids, data)\n",
        "    return result\n",
        "\n",
        "\n",
        "def unsorted_segment_mean(data, segment_ids, num_segments):\n",
        "    result_shape = (num_segments, data.size(1))\n",
        "    segment_ids = segment_ids.unsqueeze(-1).expand(-1, data.size(1))\n",
        "    result = data.new_full(result_shape, 0)  # Init empty result tensor.\n",
        "    count = data.new_full(result_shape, 0)\n",
        "    result.scatter_add_(0, segment_ids, data)\n",
        "    count.scatter_add_(0, segment_ids, torch.ones_like(data))\n",
        "    return result / count.clamp(min=1)\n",
        "\n",
        "\n",
        "def get_edges(n_nodes):\n",
        "    rows, cols = [], []\n",
        "    for i, j in itertools.product(range(n_nodes), range(n_nodes)):\n",
        "        if i != j:\n",
        "            rows.append(i)\n",
        "            cols.append(j)\n",
        "\n",
        "    return [rows, cols]\n",
        "\n",
        "\n",
        "def get_edges_batch(n_nodes, batch_size):\n",
        "    edges = get_edges(n_nodes)\n",
        "    edge_attr = torch.ones(len(edges[0]) * batch_size, 1)\n",
        "    edges = [torch.LongTensor(edges[0]), torch.LongTensor(edges[1])]\n",
        "    if batch_size == 1:\n",
        "        return edges, edge_attr\n",
        "    elif batch_size > 1:\n",
        "        rows, cols = [], []\n",
        "        for i in range(batch_size):\n",
        "            rows.append(edges[0] + n_nodes * i)\n",
        "            cols.append(edges[1] + n_nodes * i)\n",
        "        edges = [torch.cat(rows), torch.cat(cols)]\n",
        "    return edges, edge_attr\n",
        "\n",
        "class E_GCL(nn.Module):\n",
        "    \"\"\"\n",
        "    E(n) Equivariant Convolutional Layer\n",
        "    \"\"\"\n",
        "\n",
        "    def __init__(self, input_nf, output_nf, hidden_nf, edges_in_d=0, act_fn=nn.SiLU(), residual=True, attention=False, normalize=False, coords_agg='mean', tanh=False):\n",
        "        super(E_GCL, self).__init__()\n",
        "        input_edge = input_nf * 2\n",
        "        self.residual = residual\n",
        "        self.attention = attention\n",
        "        self.normalize = normalize\n",
        "        self.coords_agg = coords_agg\n",
        "        self.tanh = tanh\n",
        "        self.epsilon = 1e-8\n",
        "        edge_coords_nf = 1\n",
        "\n",
        "        self.edge_mlp = nn.Sequential(\n",
        "            nn.Linear(input_edge + edge_coords_nf + edges_in_d, hidden_nf),\n",
        "            act_fn,\n",
        "            nn.Linear(hidden_nf, hidden_nf),\n",
        "            act_fn)\n",
        "\n",
        "        self.node_mlp = nn.Sequential(\n",
        "            nn.Linear(hidden_nf + input_nf, hidden_nf),\n",
        "            act_fn,\n",
        "            nn.Linear(hidden_nf, output_nf))\n",
        "\n",
        "        layer = nn.Linear(hidden_nf, 1, bias=False)\n",
        "        torch.nn.init.xavier_uniform_(layer.weight, gain=0.001)\n",
        "\n",
        "        coord_mlp = [nn.Linear(hidden_nf, hidden_nf)]\n",
        "        coord_mlp.append(act_fn)\n",
        "        coord_mlp.append(layer)\n",
        "        if self.tanh:\n",
        "            coord_mlp.append(nn.Tanh())\n",
        "        self.coord_mlp = nn.Sequential(*coord_mlp)\n",
        "\n",
        "        if self.attention:\n",
        "            self.att_mlp = nn.Sequential(\n",
        "                nn.Linear(hidden_nf, 1),\n",
        "                nn.Sigmoid())\n",
        "\n",
        "    def edge_model(self, source, target, radial, edge_attr):\n",
        "        if edge_attr is None:  # Unused.\n",
        "            out = torch.cat([source, target, radial], dim=1)\n",
        "        else:\n",
        "            out = torch.cat([source, target, radial, edge_attr], dim=1)\n",
        "        out = self.edge_mlp(out)\n",
        "        if self.attention:\n",
        "            att_val = self.att_mlp(out)\n",
        "            out = out * att_val\n",
        "        return out\n",
        "\n",
        "    def node_model(self, x, edge_index, edge_attr, node_attr):\n",
        "        row, col = edge_index\n",
        "        agg = unsorted_segment_sum(edge_attr, row, num_segments=x.size(0))\n",
        "        if node_attr is not None:\n",
        "            agg = torch.cat([x, agg, node_attr], dim=1)\n",
        "        else:\n",
        "            agg = torch.cat([x, agg], dim=1)\n",
        "        out = self.node_mlp(agg)\n",
        "        if self.residual:\n",
        "            out = x + out\n",
        "        return out, agg\n",
        "\n",
        "    def coord_model(self, coord, edge_index, coord_diff, edge_feat):\n",
        "        row, col = edge_index\n",
        "        trans = coord_diff * self.coord_mlp(edge_feat)\n",
        "        if self.coords_agg == 'sum':\n",
        "            agg = unsorted_segment_sum(trans, row, num_segments=coord.size(0))\n",
        "        elif self.coords_agg == 'mean':\n",
        "            agg = unsorted_segment_mean(trans, row, num_segments=coord.size(0))\n",
        "        else:\n",
        "            raise Exception('Wrong coords_agg parameter' % self.coords_agg)\n",
        "        coord += agg\n",
        "        return coord\n",
        "\n",
        "    def coord2radial(self, edge_index, coord):\n",
        "        row, col = edge_index\n",
        "        coord_diff = coord[row] - coord[col]\n",
        "        radial = torch.sum(coord_diff**2, 1).unsqueeze(1)\n",
        "\n",
        "        if self.normalize:\n",
        "            norm = torch.sqrt(radial).detach() + self.epsilon\n",
        "            coord_diff = coord_diff / norm\n",
        "\n",
        "        return radial, coord_diff\n",
        "\n",
        "    def forward(self, h, edge_index, coord, edge_attr=None, node_attr=None):\n",
        "        row, col = edge_index\n",
        "        radial, coord_diff = self.coord2radial(edge_index, coord)\n",
        "\n",
        "        edge_feat = self.edge_model(h[row], h[col], radial, edge_attr)\n",
        "        coord = self.coord_model(coord, edge_index, coord_diff, edge_feat)\n",
        "        h, agg = self.node_model(h, edge_index, edge_feat, node_attr)\n",
        "\n",
        "        return h, coord, edge_attr\n"
      ]
    },
    {
      "cell_type": "code",
      "execution_count": null,
      "metadata": {},
      "outputs": [],
      "source": [
        "class EGNN(nn.Module):\n",
        "    def __init__(self, in_node_nf, hidden_nf, out_node_nf, in_edge_nf=0, device='cpu', act_fn=nn.SiLU(), n_layers=4, residual=True, attention=False, normalize=False, tanh=False):\n",
        "        '''\n",
        "        :param in_node_nf: Number of features for 'h' at the input\n",
        "        :param hidden_nf: Number of hidden features\n",
        "        :param out_node_nf: Number of features for 'h' at the output\n",
        "        :param in_edge_nf: Number of features for the edge features\n",
        "        :param device: Device (e.g. 'cpu', 'cuda:0',...)\n",
        "        :param act_fn: Non-linearity\n",
        "        :param n_layers: Number of layer for the EGNN\n",
        "        :param residual: Use residual connections, we recommend not changing this one\n",
        "        :param attention: Whether using attention or not\n",
        "        :param normalize: Normalizes the coordinates messages such that:\n",
        "                    instead of: x^{l+1}_i = x^{l}_i + Σ(x_i - x_j)phi_x(m_ij)\n",
        "                    we get:     x^{l+1}_i = x^{l}_i + Σ(x_i - x_j)phi_x(m_ij)/||x_i - x_j||\n",
        "                    We noticed it may help in the stability or generalization in some future works.\n",
        "                    We didn't use it in our paper.\n",
        "        :param tanh: Sets a tanh activation function at the output of phi_x(m_ij). I.e. it bounds the output of\n",
        "                        phi_x(m_ij) which definitely improves in stability but it may decrease in accuracy.\n",
        "        '''\n",
        "\n",
        "        super(EGNN, self).__init__()\n",
        "        self.hidden_nf = hidden_nf\n",
        "        self.device = device\n",
        "        self.n_layers = n_layers\n",
        "        self.embedding_in = nn.Linear(in_node_nf, self.hidden_nf)\n",
        "        self.embedding_out = nn.Linear(self.hidden_nf, out_node_nf)\n",
        "        for i in range(n_layers):\n",
        "            self.add_module(\"gcl_%d\" % i, E_GCL(self.hidden_nf, self.hidden_nf, self.hidden_nf, edges_in_d=in_edge_nf,\n",
        "                                                act_fn=act_fn, residual=residual, attention=attention,\n",
        "                                                normalize=normalize, tanh=tanh))\n",
        "        self.to(self.device)\n",
        "\n",
        "    def forward(self, h, x, edges, edge_attr):\n",
        "        h = self.embedding_in(h)\n",
        "        for i in range(self.n_layers):\n",
        "            h, x, _ = self._modules[\"gcl_%d\" % i](h, edges, x, edge_attr=edge_attr)\n",
        "        h = self.embedding_out(h)\n",
        "        return h, x\n",
        "\n"
      ]
    },
    {
      "cell_type": "code",
      "execution_count": 77,
      "metadata": {
        "id": "m4y3Ezsnj_2p"
      },
      "outputs": [],
      "source": [
        "# TRAIN FUNCTION (INCLUDE, BUT NOT AS CROSS VAL?)\n",
        "def cat_or_start(all, curr, dim=0):\n",
        "    if all is None:\n",
        "        all = curr\n",
        "    else:\n",
        "        all = torch.cat((all, curr), dim=dim)\n",
        "    return all\n",
        "\n",
        "def train(model, trainloader, validloader, device, criterion, optimizer, threshold, num_epochs):\n",
        "    model.to(device)\n",
        "\n",
        "    best_f1_validation = 0.0\n",
        "    best_epoch = 1\n",
        "    all_valid_pred = None\n",
        "    all_valid_true = None\n",
        "    best_model_wts = copy.deepcopy(model.state_dict())\n",
        "\n",
        "    train_f1s = []\n",
        "    train_accs = []\n",
        "    train_recalls = []\n",
        "    train_losses = []\n",
        "\n",
        "    valid_f1s = []\n",
        "    valid_accs = []\n",
        "    valid_recalls = []\n",
        "    valid_losses = []\n",
        "\n",
        "    with tqdm(total=num_epochs) as pbar:\n",
        "        for epoch in range(num_epochs):\n",
        "            # Training\n",
        "            model.train()\n",
        "            train_loss = 0\n",
        "            y_pred_train = None\n",
        "            y_true_train = None\n",
        "            \n",
        "            for train_data in trainloader:\n",
        "                train_data.to(device)\n",
        "                optimizer.zero_grad()\n",
        "                outputs = model(train_data.x, train_data.edge_index, train_data.batch, train_data.edge_attr.squeeze(), train_data.graph_embedding)\n",
        "                curr_true_y = torch.FloatTensor(np.array(train_data.y, 'int8')[:, 6]).unsqueeze(1).to(device) # TO CHANGE\n",
        "                loss = criterion(outputs, curr_true_y)\n",
        "                loss.backward()\n",
        "                optimizer.step()\n",
        "                train_loss += loss.item()\n",
        "                curr_outputs = outputs.detach().cpu()\n",
        "\n",
        "                y_true_train = cat_or_start(y_true_train, curr_true_y)\n",
        "                y_pred_train = cat_or_start(y_pred_train, curr_outputs)\n",
        "\n",
        "            y_true_train = y_true_train.cpu()\n",
        "            y_pred_binary_train = torch.where(torch.sigmoid(y_pred_train) < threshold, torch.tensor(0.0), torch.tensor(1.0))\n",
        "            train_accuracy = np.mean(np.array(y_true_train) == np.array(y_pred_binary_train))\n",
        "            train_f1 = f1_score(y_true_train, y_pred_binary_train, average=\"macro\")\n",
        "            train_recall = recall_score(y_true_train, y_pred_binary_train, average=\"macro\")\n",
        "            train_accs.append(train_accuracy)\n",
        "            train_f1s.append(train_f1)\n",
        "            train_recalls.append(train_recall)\n",
        "            train_losses.append(train_loss / len(trainloader))\n",
        "    \n",
        "            pbar.set_description(f'Epoch {epoch+1}      Train: Loss = {train_loss / len(trainloader):.4f}, Recall = {train_recall:.4f}, F1 Score = {train_f1:.4f}')\n",
        "            pbar.update(1)\n",
        "\n",
        "            # Validation\n",
        "            valid_loss = 0.0\n",
        "            y_true_valid = None\n",
        "            y_pred_valid = None\n",
        "            with torch.no_grad():\n",
        "                model.eval()\n",
        "                for valid_data in validloader:\n",
        "                    valid_data.to(device)\n",
        "                    outputs = model(valid_data.x, valid_data.edge_index, valid_data.batch, valid_data.edge_attr.squeeze(), valid_data.graph_embedding)\n",
        "                    curr_true_y = torch.FloatTensor(np.array(valid_data.y, 'int8')[:, 6]).unsqueeze(1).to(device) # TO CHANGE\n",
        "\n",
        "                    loss = criterion(outputs, curr_true_y)\n",
        "                    valid_loss += loss.item()\n",
        "                    curr_outputs = outputs.detach().cpu()\n",
        "                    \n",
        "                    y_true_valid = cat_or_start(y_true_valid, curr_true_y)\n",
        "                    y_pred_valid = cat_or_start(y_pred_valid, outputs)\n",
        "\n",
        "            y_true_valid = y_true_valid.cpu()\n",
        "            y_pred_binary_valid = torch.where(torch.sigmoid(y_pred_valid) < threshold, torch.tensor(0.0), torch.tensor(1.0))\n",
        "\n",
        "            valid_accuracy = np.mean(np.array(y_true_valid) == np.array(y_pred_binary_valid))\n",
        "            valid_f1 = f1_score(y_true_valid, y_pred_binary_valid, average='macro')\n",
        "            valid_recall = recall_score(y_true_valid, y_pred_binary_valid, average='macro')\n",
        "            valid_accs.append(valid_accuracy)\n",
        "            valid_f1s.append(valid_f1)\n",
        "            valid_recalls.append(valid_recall)\n",
        "            valid_losses.append(valid_loss / len(validloader))\n",
        "            print(f'Epoch {epoch+1} Validation: Loss = {valid_loss / len(validloader):.4f}, Recall = {valid_recall:.4f}, F1 Score = {valid_f1:.4f}\\n')\n",
        "            \n",
        "            if all_valid_pred is None:\n",
        "                all_valid_pred = y_pred_valid\n",
        "            else:\n",
        "                all_valid_pred = np.concatenate((all_valid_pred, y_pred_valid))\n",
        "            if all_valid_true is None:\n",
        "                all_valid_true = y_true_valid\n",
        "            else:\n",
        "                all_valid_true = np.concatenate((all_valid_true, y_true_valid))\n",
        "\n",
        "            if valid_f1 > best_f1_validation:\n",
        "                    best_f1_validation = valid_f1\n",
        "                    best_epoch = epoch\n",
        "                    best_model_wts = copy.deepcopy(model.state_dict())\n",
        "\n",
        "    return best_epoch, best_model_wts, train_recalls, train_f1s, train_losses, valid_recalls, valid_f1s, valid_losses"
      ]
    },
    {
      "cell_type": "code",
      "execution_count": 78,
      "metadata": {},
      "outputs": [],
      "source": [
        "# TEST FUNCTION (INCLUDE)\n",
        "import random\n",
        "def test(model, testloader, device, criterion, threshold):\n",
        "    test_loss = 0.0\n",
        "    with torch.no_grad():\n",
        "        model.eval()\n",
        "        y_true_test = None\n",
        "        y_pred_test = None\n",
        "\n",
        "        for test_data in testloader:\n",
        "            test_data.to(device)\n",
        "            outputs = model(test_data.x, test_data.edge_index, test_data.batch, test_data.edge_attr.squeeze(), test_data.graph_embedding)\n",
        "            curr_true_y = torch.FloatTensor(np.array(test_data.y, 'int8')[:, 6]).unsqueeze(1).to(device) # TO CHANGE\n",
        "            loss = criterion(outputs, curr_true_y)\n",
        "            test_loss += loss.item()\n",
        "            curr_outputs = outputs.detach().cpu()\n",
        "\n",
        "            y_true_test = cat_or_start(y_true_test, curr_true_y)\n",
        "            y_pred_test = cat_or_start(y_pred_test, curr_outputs)\n",
        "    \n",
        "        y_true_test = y_true_test.cpu()\n",
        "        y_pred_binary_test = torch.where(torch.sigmoid(y_pred_test) < threshold, torch.tensor(0.0), torch.tensor(1.0))\n",
        "        test_accuracy = np.mean(np.array(y_true_test) == np.array(y_pred_binary_test))\n",
        "        test_f1 = f1_score(y_true_test, y_pred_binary_test, average='macro')\n",
        "        test_recall = recall_score(y_true_test, y_pred_binary_test, average='macro')\n",
        "        print(f'Test: Loss = {test_loss / len(testloader):.4f}, Recall = {test_recall:.4f}, F1 Score = {test_f1:.4f}')\n",
        "\n",
        "        return test_recall, test_f1"
      ]
    },
    {
      "cell_type": "code",
      "execution_count": 9,
      "metadata": {},
      "outputs": [],
      "source": [
        "# AUGMENT DATASET\n",
        "\n",
        "def rotate_3d(points, axis, angle):\n",
        "    \"\"\"\n",
        "    Rotate a 3D object around a specified axis by a given angle.\n",
        "    \n",
        "    Parameters:\n",
        "    - points (np.ndarray): An Nx3 array of (x, y, z) coordinates.\n",
        "    - axis (str): The axis to rotate around ('x', 'y', or 'z').\n",
        "    - angle (float): The angle to rotate by in radians.\n",
        "    \n",
        "    Returns:\n",
        "    - np.ndarray: The rotated Nx3 array of coordinates.\n",
        "    \"\"\"\n",
        "    if axis == 'x':\n",
        "        rotation_matrix = np.array([\n",
        "            [1, 0, 0],\n",
        "            [0, np.cos(angle), -np.sin(angle)],\n",
        "            [0, np.sin(angle), np.cos(angle)]\n",
        "        ])\n",
        "    elif axis == 'y':\n",
        "        rotation_matrix = np.array([\n",
        "            [np.cos(angle), 0, np.sin(angle)],\n",
        "            [0, 1, 0],\n",
        "            [-np.sin(angle), 0, np.cos(angle)]\n",
        "        ])\n",
        "    elif axis == 'z':\n",
        "        rotation_matrix = np.array([\n",
        "            [np.cos(angle), -np.sin(angle), 0],\n",
        "            [np.sin(angle), np.cos(angle), 0],\n",
        "            [0, 0, 1]\n",
        "        ])\n",
        "    else:\n",
        "        raise ValueError(\"Axis must be 'x', 'y', or 'z'\")\n",
        "    \n",
        "    # Apply the rotation matrix to each point\n",
        "    rotated_points = points.dot(rotation_matrix.T)\n",
        "    \n",
        "    return rotated_points\n",
        "\n",
        "def rotate_2d(points, angle):\n",
        "    \"\"\"\n",
        "    Rotate a 2D object by a given angle.\n",
        "    \n",
        "    Parameters:\n",
        "    - points (np.ndarray): An Nx2 array of (x, y) coordinates.\n",
        "    - angle (float): The angle to rotate by in radians.\n",
        "    \n",
        "    Returns:\n",
        "    - np.ndarray: The rotated Nx2 array of coordinates.\n",
        "    \"\"\"\n",
        "    # Define the 2D rotation matrix\n",
        "    rotation_matrix = np.array([\n",
        "        [np.cos(angle), -np.sin(angle)],\n",
        "        [np.sin(angle), np.cos(angle)]\n",
        "    ])\n",
        "    \n",
        "    # Apply the rotation matrix to each point\n",
        "    rotated_points = points.dot(rotation_matrix.T)\n",
        "    \n",
        "    return rotated_points\n",
        "\n",
        "def augment_metabolite(metabolite, num):\n",
        "    # metabolite to augment\n",
        "    # num: number of fold to augment\n",
        "    angles = np.random.uniform(0, 2 * np.pi, num)\n",
        "    axis = ['x', 'y', 'z']\n",
        "    new_metabolites = [metabolite]\n",
        "    for a in angles:\n",
        "        rotated_points = rotate_3d(np.array(metabolite.x[:, :3]), axis[np.random.randint(0,3)], a)\n",
        "        new_x = metabolite.x.clone()\n",
        "        new_x[:,:3] = torch.tensor(rotated_points)\n",
        "        new_metabolites.append(Data(x= new_x, edge_index=metabolite.edge_index, edge_attr=metabolite.edge_attr,\n",
        "                           y=metabolite.y, graph_embedding = metabolite.graph_embedding))\n",
        "    \n",
        "    return new_metabolites"
      ]
    },
    {
      "cell_type": "code",
      "execution_count": 79,
      "metadata": {
        "id": "4TQCiWG0j_2p"
      },
      "outputs": [],
      "source": [
        "# CROSS-VALIDATION (INCLUDE?)\n",
        "def cross_validation(dataset_train, dataset_test, device, threshold, num_epochs, lr, weight_decay, pos_weight, num_folds):\n",
        "    skf = KFold(n_splits=num_folds, shuffle=True, random_state=45)\n",
        "\n",
        "    batch_size = 64\n",
        "    augmentation_fold = 5\n",
        "    testloader = DataLoader(dataset_test, batch_size=batch_size)\n",
        "    \n",
        "    all_train_accs = np.zeros((num_folds, num_epochs))\n",
        "    all_train_f1s = np.zeros((num_folds, num_epochs))\n",
        "    all_train_recalls = np.zeros((num_folds, num_epochs))\n",
        "    all_train_losses = np.zeros((num_folds, num_epochs))\n",
        "    all_valid_accs = np.zeros((num_folds, num_epochs))\n",
        "    all_valid_f1s = np.zeros((num_folds, num_epochs))\n",
        "    all_valid_recalls = np.zeros((num_folds, num_epochs))\n",
        "    all_valid_losses = np.zeros((num_folds, num_epochs))\n",
        "    all_test_accs = []\n",
        "    all_test_f1s = []\n",
        "    all_test_recalls = []\n",
        "    max_f1 = 0\n",
        "    bestest_model_wts = None\n",
        "\n",
        "    curr_fold = 0\n",
        "    # Initialize the model for this run (inside the cross-validation loop)\n",
        "    for train_index, val_index in skf.split(dataset_train):\n",
        "          print(f\"***************************************************** Fold {curr_fold+1}/{num_folds} *****************************************************\")\n",
        "          #model = GCN(num_node_features=64, hidden_dim1=32, hidden_dim2=32, output_dim=level1_node_num) # TOCHANGE\n",
        "          #model = GIN(num_features = 64, num_layers=2, hidden_dim=32, output_dim=level1_node_num) # TOCHANGE\n",
        "          model = GAT(num_features = 63, heads=8, hidden_channels=32, output_dim=level1_node_num) # TOCHANGE\n",
        "          criterion = torch.nn.BCEWithLogitsLoss(pos_weight=pos_weight)\n",
        "          criterion.to(device)\n",
        "          optimizer = optim.Adam(model.parameters(), lr=lr, weight_decay=weight_decay)\n",
        "\n",
        "          # Split training set into training and validation sets for each fold\n",
        "          fold_train_dataset = [dataset_train[i] for i in train_index]\n",
        "          fold_train_dataset_augmented = []\n",
        "\n",
        "          # Augment data TODO update if ever removed\n",
        "          \"\"\"\n",
        "          for d in fold_train_dataset:\n",
        "               augmented_d = augment_metabolite(d, augmentation_fold)\n",
        "               fold_train_dataset_augmented += augmented_d\n",
        "          \"\"\"\n",
        "          fold_valid_dataset = [dataset_train[i] for i in val_index]\n",
        "          fold_trainloader = DataLoader(fold_train_dataset, batch_size=batch_size, shuffle=True)\n",
        "          \"\"\"\n",
        "          fold_trainloader_augmented = DataLoader(fold_train_dataset_augmented, batch_size=batch_size, shuffle=True)\n",
        "          print(len(fold_trainloader))\n",
        "          print(len(fold_trainloader_augmented))\n",
        "          \"\"\"\n",
        "          fold_validloader = DataLoader(fold_valid_dataset, batch_size=batch_size)\n",
        "\n",
        "          # Train and evaluate the model for this fold\n",
        "          results = train(model, fold_trainloader, fold_validloader, device, criterion, optimizer, threshold, num_epochs)\n",
        "          _, best_model_wts, train_recalls, train_f1s, train_losses, valid_recalls, valid_f1s, valid_losses = results\n",
        "\n",
        "          #all_train_accs[curr_fold] = train_accs\n",
        "          all_train_f1s[curr_fold] = train_f1s\n",
        "          all_train_recalls[curr_fold] = train_recalls\n",
        "          all_train_losses[curr_fold] = train_losses\n",
        "          #all_valid_accs[curr_fold] = valid_accs\n",
        "          all_valid_f1s[curr_fold] = valid_f1s\n",
        "          all_valid_recalls[curr_fold] = valid_recalls\n",
        "          all_valid_losses[curr_fold] = valid_losses\n",
        "          model.load_state_dict(best_model_wts)\n",
        "          test_recall, test_f1 = test(model, testloader, device, criterion, threshold)\n",
        "          all_test_recalls.append(test_recall)\n",
        "          all_test_f1s.append(test_f1)\n",
        "          if test_f1 > max_f1:\n",
        "               max_f1 = test_f1\n",
        "               bestest_model_wts = best_model_wts\n",
        "          curr_fold+=1\n",
        "\n",
        "    # Print final cross-validation results\n",
        "    average_recall = np.mean(all_test_recalls)\n",
        "    print(f'\\nAverage Recall across {num_folds} folds: {average_recall:.3f}')\n",
        "    recall_std = np.std(np.array(all_test_recalls))\n",
        "    print(f'\\nRecall std across {num_folds} folds: {recall_std:.3f}')\n",
        "    average_f1 = np.mean(all_test_f1s)\n",
        "    print(f'\\nAverage F1-Score across {num_folds} folds: {average_f1:.3f}')\n",
        "    f1_std = np.std(np.array(all_test_f1s))\n",
        "    print(f'\\nF1-Score std across {num_folds} folds: {f1_std:.3f}')\n",
        "    return bestest_model_wts, all_train_recalls, all_train_f1s, all_train_losses, all_valid_recalls, all_valid_f1s, all_valid_losses"
      ]
    },
    {
      "cell_type": "code",
      "execution_count": 80,
      "metadata": {},
      "outputs": [
        {
          "name": "stdout",
          "output_type": "stream",
          "text": [
            "***************************************************** Fold 1/5 *****************************************************\n"
          ]
        },
        {
          "name": "stderr",
          "output_type": "stream",
          "text": [
            "Epoch 1      Train: Loss = 1.8973, Recall = 0.5909, F1 Score = 0.5908:   5%|▌         | 1/20 [00:02<00:38,  2.05s/it]"
          ]
        },
        {
          "name": "stdout",
          "output_type": "stream",
          "text": [
            "Epoch 1 Validation: Loss = 0.7430, Recall = 0.6401, F1 Score = 0.6618\n",
            "\n"
          ]
        },
        {
          "name": "stderr",
          "output_type": "stream",
          "text": [
            "Epoch 2      Train: Loss = 0.9063, Recall = 0.6685, F1 Score = 0.6929:  10%|█         | 2/20 [00:04<00:38,  2.12s/it]"
          ]
        },
        {
          "name": "stdout",
          "output_type": "stream",
          "text": [
            "Epoch 2 Validation: Loss = 0.5195, Recall = 0.7747, F1 Score = 0.8112\n",
            "\n"
          ]
        },
        {
          "name": "stderr",
          "output_type": "stream",
          "text": [
            "Epoch 3      Train: Loss = 0.6736, Recall = 0.6796, F1 Score = 0.7067:  15%|█▌        | 3/20 [00:06<00:36,  2.14s/it]"
          ]
        },
        {
          "name": "stdout",
          "output_type": "stream",
          "text": [
            "Epoch 3 Validation: Loss = 0.4957, Recall = 0.7682, F1 Score = 0.8049\n",
            "\n"
          ]
        },
        {
          "name": "stderr",
          "output_type": "stream",
          "text": [
            "Epoch 4      Train: Loss = 0.5513, Recall = 0.6964, F1 Score = 0.7275:  20%|██        | 4/20 [00:08<00:34,  2.14s/it]"
          ]
        },
        {
          "name": "stdout",
          "output_type": "stream",
          "text": [
            "Epoch 4 Validation: Loss = 0.4723, Recall = 0.7179, F1 Score = 0.7547\n",
            "\n"
          ]
        },
        {
          "name": "stderr",
          "output_type": "stream",
          "text": [
            "Epoch 5      Train: Loss = 0.5290, Recall = 0.7120, F1 Score = 0.7448:  25%|██▌       | 5/20 [00:10<00:31,  2.12s/it]"
          ]
        },
        {
          "name": "stdout",
          "output_type": "stream",
          "text": [
            "Epoch 5 Validation: Loss = 0.4891, Recall = 0.7529, F1 Score = 0.7906\n",
            "\n"
          ]
        },
        {
          "name": "stderr",
          "output_type": "stream",
          "text": [
            "Epoch 6      Train: Loss = 0.4815, Recall = 0.7279, F1 Score = 0.7631:  30%|███       | 6/20 [00:12<00:30,  2.15s/it]"
          ]
        },
        {
          "name": "stdout",
          "output_type": "stream",
          "text": [
            "Epoch 6 Validation: Loss = 0.4605, Recall = 0.7233, F1 Score = 0.7599\n",
            "\n"
          ]
        },
        {
          "name": "stderr",
          "output_type": "stream",
          "text": [
            "Epoch 7      Train: Loss = 0.4877, Recall = 0.7327, F1 Score = 0.7672:  35%|███▌      | 7/20 [00:14<00:27,  2.15s/it]"
          ]
        },
        {
          "name": "stdout",
          "output_type": "stream",
          "text": [
            "Epoch 7 Validation: Loss = 0.5397, Recall = 0.8537, F1 Score = 0.8815\n",
            "\n"
          ]
        },
        {
          "name": "stderr",
          "output_type": "stream",
          "text": [
            "Epoch 8      Train: Loss = 0.4716, Recall = 0.7410, F1 Score = 0.7769:  40%|████      | 8/20 [00:17<00:25,  2.15s/it]"
          ]
        },
        {
          "name": "stdout",
          "output_type": "stream",
          "text": [
            "Epoch 8 Validation: Loss = 0.4520, Recall = 0.7463, F1 Score = 0.7840\n",
            "\n"
          ]
        },
        {
          "name": "stderr",
          "output_type": "stream",
          "text": [
            "Epoch 9      Train: Loss = 0.4777, Recall = 0.7530, F1 Score = 0.7889:  45%|████▌     | 9/20 [00:19<00:23,  2.15s/it]"
          ]
        },
        {
          "name": "stdout",
          "output_type": "stream",
          "text": [
            "Epoch 9 Validation: Loss = 0.4562, Recall = 0.7080, F1 Score = 0.7439\n",
            "\n"
          ]
        },
        {
          "name": "stderr",
          "output_type": "stream",
          "text": [
            "Epoch 10      Train: Loss = 0.4549, Recall = 0.7355, F1 Score = 0.7706:  50%|█████     | 10/20 [00:21<00:21,  2.12s/it]"
          ]
        },
        {
          "name": "stdout",
          "output_type": "stream",
          "text": [
            "Epoch 10 Validation: Loss = 0.4452, Recall = 0.6981, F1 Score = 0.7327\n",
            "\n"
          ]
        },
        {
          "name": "stderr",
          "output_type": "stream",
          "text": [
            "Epoch 11      Train: Loss = 0.4638, Recall = 0.7639, F1 Score = 0.8003:  55%|█████▌    | 11/20 [00:23<00:19,  2.11s/it]"
          ]
        },
        {
          "name": "stdout",
          "output_type": "stream",
          "text": [
            "Epoch 11 Validation: Loss = 0.4413, Recall = 0.6828, F1 Score = 0.7154\n",
            "\n"
          ]
        },
        {
          "name": "stderr",
          "output_type": "stream",
          "text": [
            "Epoch 12      Train: Loss = 0.5751, Recall = 0.7220, F1 Score = 0.7557:  60%|██████    | 12/20 [00:25<00:16,  2.10s/it]"
          ]
        },
        {
          "name": "stdout",
          "output_type": "stream",
          "text": [
            "Epoch 12 Validation: Loss = 0.5089, Recall = 0.6325, F1 Score = 0.6518\n",
            "\n"
          ]
        },
        {
          "name": "stderr",
          "output_type": "stream",
          "text": [
            "Epoch 13      Train: Loss = 0.4414, Recall = 0.7748, F1 Score = 0.8114:  65%|██████▌   | 13/20 [00:27<00:14,  2.12s/it]"
          ]
        },
        {
          "name": "stdout",
          "output_type": "stream",
          "text": [
            "Epoch 13 Validation: Loss = 0.4526, Recall = 0.7080, F1 Score = 0.7439\n",
            "\n"
          ]
        },
        {
          "name": "stderr",
          "output_type": "stream",
          "text": [
            "Epoch 14      Train: Loss = 0.4210, Recall = 0.7660, F1 Score = 0.8028:  70%|███████   | 14/20 [00:29<00:12,  2.11s/it]"
          ]
        },
        {
          "name": "stdout",
          "output_type": "stream",
          "text": [
            "Epoch 14 Validation: Loss = 0.4383, Recall = 0.7792, F1 Score = 0.8164\n",
            "\n"
          ]
        },
        {
          "name": "stderr",
          "output_type": "stream",
          "text": [
            "Epoch 15      Train: Loss = 0.4008, Recall = 0.7859, F1 Score = 0.8230:  75%|███████▌  | 15/20 [00:31<00:10,  2.11s/it]"
          ]
        },
        {
          "name": "stdout",
          "output_type": "stream",
          "text": [
            "Epoch 15 Validation: Loss = 0.4406, Recall = 0.7475, F1 Score = 0.7860\n",
            "\n"
          ]
        },
        {
          "name": "stderr",
          "output_type": "stream",
          "text": [
            "Epoch 16      Train: Loss = 0.4104, Recall = 0.7600, F1 Score = 0.7966:  80%|████████  | 16/20 [00:33<00:08,  2.09s/it]"
          ]
        },
        {
          "name": "stdout",
          "output_type": "stream",
          "text": [
            "Epoch 16 Validation: Loss = 0.4789, Recall = 0.8614, F1 Score = 0.8890\n",
            "\n"
          ]
        },
        {
          "name": "stderr",
          "output_type": "stream",
          "text": [
            "Epoch 17      Train: Loss = 0.3979, Recall = 0.7876, F1 Score = 0.8242:  85%|████████▌ | 17/20 [00:35<00:06,  2.08s/it]"
          ]
        },
        {
          "name": "stdout",
          "output_type": "stream",
          "text": [
            "Epoch 17 Validation: Loss = 0.4558, Recall = 0.7146, F1 Score = 0.7511\n",
            "\n"
          ]
        },
        {
          "name": "stderr",
          "output_type": "stream",
          "text": [
            "Epoch 18      Train: Loss = 0.3987, Recall = 0.7903, F1 Score = 0.8266:  90%|█████████ | 18/20 [00:38<00:04,  2.11s/it]"
          ]
        },
        {
          "name": "stdout",
          "output_type": "stream",
          "text": [
            "Epoch 18 Validation: Loss = 0.4536, Recall = 0.7179, F1 Score = 0.7547\n",
            "\n"
          ]
        },
        {
          "name": "stderr",
          "output_type": "stream",
          "text": [
            "Epoch 19      Train: Loss = 0.4073, Recall = 0.7868, F1 Score = 0.8235:  95%|█████████▌| 19/20 [00:40<00:02,  2.10s/it]"
          ]
        },
        {
          "name": "stdout",
          "output_type": "stream",
          "text": [
            "Epoch 19 Validation: Loss = 0.4329, Recall = 0.8088, F1 Score = 0.8438\n",
            "\n"
          ]
        },
        {
          "name": "stderr",
          "output_type": "stream",
          "text": [
            "Epoch 20      Train: Loss = 0.4070, Recall = 0.7762, F1 Score = 0.8121: 100%|██████████| 20/20 [00:42<00:00,  2.12s/it]\n"
          ]
        },
        {
          "name": "stdout",
          "output_type": "stream",
          "text": [
            "Epoch 20 Validation: Loss = 0.4468, Recall = 0.7475, F1 Score = 0.7860\n",
            "\n",
            "Test: Loss = 0.4522, Recall = 0.7921, F1 Score = 0.8259\n",
            "***************************************************** Fold 2/5 *****************************************************\n"
          ]
        },
        {
          "name": "stderr",
          "output_type": "stream",
          "text": [
            "Epoch 1      Train: Loss = 1.9394, Recall = 0.6127, F1 Score = 0.6201:   5%|▌         | 1/20 [00:01<00:35,  1.89s/it]"
          ]
        },
        {
          "name": "stdout",
          "output_type": "stream",
          "text": [
            "Epoch 1 Validation: Loss = 0.7090, Recall = 0.6198, F1 Score = 0.6365\n",
            "\n"
          ]
        },
        {
          "name": "stderr",
          "output_type": "stream",
          "text": [
            "Epoch 2      Train: Loss = 0.6627, Recall = 0.6795, F1 Score = 0.7060:  10%|█         | 2/20 [00:03<00:35,  1.97s/it]"
          ]
        },
        {
          "name": "stdout",
          "output_type": "stream",
          "text": [
            "Epoch 2 Validation: Loss = 0.5940, Recall = 0.6780, F1 Score = 0.7108\n",
            "\n"
          ]
        },
        {
          "name": "stderr",
          "output_type": "stream",
          "text": [
            "Epoch 3      Train: Loss = 0.5945, Recall = 0.6762, F1 Score = 0.7022:  15%|█▌        | 3/20 [00:06<00:35,  2.08s/it]"
          ]
        },
        {
          "name": "stdout",
          "output_type": "stream",
          "text": [
            "Epoch 3 Validation: Loss = 0.5442, Recall = 0.7454, F1 Score = 0.7837\n",
            "\n"
          ]
        },
        {
          "name": "stderr",
          "output_type": "stream",
          "text": [
            "Epoch 4      Train: Loss = 0.5994, Recall = 0.7054, F1 Score = 0.7364:  20%|██        | 4/20 [00:08<00:32,  2.06s/it]"
          ]
        },
        {
          "name": "stdout",
          "output_type": "stream",
          "text": [
            "Epoch 4 Validation: Loss = 0.7341, Recall = 0.6769, F1 Score = 0.7104\n",
            "\n"
          ]
        },
        {
          "name": "stderr",
          "output_type": "stream",
          "text": [
            "Epoch 5      Train: Loss = 0.6253, Recall = 0.7260, F1 Score = 0.7589:  25%|██▌       | 5/20 [00:10<00:32,  2.13s/it]"
          ]
        },
        {
          "name": "stdout",
          "output_type": "stream",
          "text": [
            "Epoch 5 Validation: Loss = 0.4728, Recall = 0.7591, F1 Score = 0.8001\n",
            "\n"
          ]
        },
        {
          "name": "stderr",
          "output_type": "stream",
          "text": [
            "Epoch 6      Train: Loss = 0.4903, Recall = 0.7401, F1 Score = 0.7751:  30%|███       | 6/20 [00:12<00:29,  2.11s/it]"
          ]
        },
        {
          "name": "stdout",
          "output_type": "stream",
          "text": [
            "Epoch 6 Validation: Loss = 0.4679, Recall = 0.7614, F1 Score = 0.8014\n",
            "\n"
          ]
        },
        {
          "name": "stderr",
          "output_type": "stream",
          "text": [
            "Epoch 7      Train: Loss = 0.4820, Recall = 0.7486, F1 Score = 0.7836:  35%|███▌      | 7/20 [00:14<00:27,  2.09s/it]"
          ]
        },
        {
          "name": "stdout",
          "output_type": "stream",
          "text": [
            "Epoch 7 Validation: Loss = 0.4265, Recall = 0.7477, F1 Score = 0.7877\n",
            "\n"
          ]
        },
        {
          "name": "stderr",
          "output_type": "stream",
          "text": [
            "Epoch 8      Train: Loss = 0.4528, Recall = 0.7514, F1 Score = 0.7869:  40%|████      | 8/20 [00:16<00:25,  2.11s/it]"
          ]
        },
        {
          "name": "stdout",
          "output_type": "stream",
          "text": [
            "Epoch 8 Validation: Loss = 0.4258, Recall = 0.7420, F1 Score = 0.7827\n",
            "\n"
          ]
        },
        {
          "name": "stderr",
          "output_type": "stream",
          "text": [
            "Epoch 9      Train: Loss = 0.4562, Recall = 0.7565, F1 Score = 0.7925:  45%|████▌     | 9/20 [00:18<00:22,  2.09s/it]"
          ]
        },
        {
          "name": "stdout",
          "output_type": "stream",
          "text": [
            "Epoch 9 Validation: Loss = 0.4593, Recall = 0.7442, F1 Score = 0.7842\n",
            "\n"
          ]
        },
        {
          "name": "stderr",
          "output_type": "stream",
          "text": [
            "Epoch 10      Train: Loss = 0.4510, Recall = 0.7849, F1 Score = 0.8203:  50%|█████     | 10/20 [00:20<00:20,  2.08s/it]"
          ]
        },
        {
          "name": "stdout",
          "output_type": "stream",
          "text": [
            "Epoch 10 Validation: Loss = 0.4106, Recall = 0.7066, F1 Score = 0.7441\n",
            "\n"
          ]
        },
        {
          "name": "stderr",
          "output_type": "stream",
          "text": [
            "Epoch 11      Train: Loss = 0.4201, Recall = 0.7553, F1 Score = 0.7914:  55%|█████▌    | 11/20 [00:22<00:18,  2.08s/it]"
          ]
        },
        {
          "name": "stdout",
          "output_type": "stream",
          "text": [
            "Epoch 11 Validation: Loss = 0.5750, Recall = 0.8755, F1 Score = 0.8997\n",
            "\n"
          ]
        },
        {
          "name": "stderr",
          "output_type": "stream",
          "text": [
            "Epoch 12      Train: Loss = 0.4410, Recall = 0.7834, F1 Score = 0.8188:  60%|██████    | 12/20 [00:24<00:16,  2.07s/it]"
          ]
        },
        {
          "name": "stdout",
          "output_type": "stream",
          "text": [
            "Epoch 12 Validation: Loss = 0.4158, Recall = 0.7317, F1 Score = 0.7720\n",
            "\n"
          ]
        },
        {
          "name": "stderr",
          "output_type": "stream",
          "text": [
            "Epoch 13      Train: Loss = 0.4014, Recall = 0.7661, F1 Score = 0.8017:  65%|██████▌   | 13/20 [00:27<00:14,  2.11s/it]"
          ]
        },
        {
          "name": "stdout",
          "output_type": "stream",
          "text": [
            "Epoch 13 Validation: Loss = 0.4679, Recall = 0.8173, F1 Score = 0.8513\n",
            "\n"
          ]
        },
        {
          "name": "stderr",
          "output_type": "stream",
          "text": [
            "Epoch 14      Train: Loss = 0.4024, Recall = 0.7959, F1 Score = 0.8316:  70%|███████   | 14/20 [00:29<00:12,  2.08s/it]"
          ]
        },
        {
          "name": "stdout",
          "output_type": "stream",
          "text": [
            "Epoch 14 Validation: Loss = 0.4346, Recall = 0.7945, F1 Score = 0.8319\n",
            "\n"
          ]
        },
        {
          "name": "stderr",
          "output_type": "stream",
          "text": [
            "Epoch 15      Train: Loss = 0.3962, Recall = 0.7889, F1 Score = 0.8246:  75%|███████▌  | 15/20 [00:31<00:10,  2.10s/it]"
          ]
        },
        {
          "name": "stdout",
          "output_type": "stream",
          "text": [
            "Epoch 15 Validation: Loss = 0.4018, Recall = 0.7694, F1 Score = 0.8102\n",
            "\n"
          ]
        },
        {
          "name": "stderr",
          "output_type": "stream",
          "text": [
            "Epoch 16      Train: Loss = 0.3955, Recall = 0.8066, F1 Score = 0.8412:  80%|████████  | 16/20 [00:33<00:08,  2.09s/it]"
          ]
        },
        {
          "name": "stdout",
          "output_type": "stream",
          "text": [
            "Epoch 16 Validation: Loss = 0.3986, Recall = 0.7351, F1 Score = 0.7756\n",
            "\n"
          ]
        },
        {
          "name": "stderr",
          "output_type": "stream",
          "text": [
            "Epoch 17      Train: Loss = 0.4062, Recall = 0.7636, F1 Score = 0.7999:  85%|████████▌ | 17/20 [00:35<00:06,  2.07s/it]"
          ]
        },
        {
          "name": "stdout",
          "output_type": "stream",
          "text": [
            "Epoch 17 Validation: Loss = 0.4130, Recall = 0.7853, F1 Score = 0.8245\n",
            "\n"
          ]
        },
        {
          "name": "stderr",
          "output_type": "stream",
          "text": [
            "Epoch 18      Train: Loss = 0.3851, Recall = 0.8060, F1 Score = 0.8402:  90%|█████████ | 18/20 [00:37<00:04,  2.11s/it]"
          ]
        },
        {
          "name": "stdout",
          "output_type": "stream",
          "text": [
            "Epoch 18 Validation: Loss = 0.3977, Recall = 0.7385, F1 Score = 0.7792\n",
            "\n"
          ]
        },
        {
          "name": "stderr",
          "output_type": "stream",
          "text": [
            "Epoch 19      Train: Loss = 0.3948, Recall = 0.7774, F1 Score = 0.8139:  95%|█████████▌| 19/20 [00:39<00:02,  2.09s/it]"
          ]
        },
        {
          "name": "stdout",
          "output_type": "stream",
          "text": [
            "Epoch 19 Validation: Loss = 0.4204, Recall = 0.7990, F1 Score = 0.8371\n",
            "\n"
          ]
        },
        {
          "name": "stderr",
          "output_type": "stream",
          "text": [
            "Epoch 20      Train: Loss = 0.3971, Recall = 0.7988, F1 Score = 0.8337: 100%|██████████| 20/20 [00:41<00:00,  2.09s/it]\n"
          ]
        },
        {
          "name": "stdout",
          "output_type": "stream",
          "text": [
            "Epoch 20 Validation: Loss = 0.4153, Recall = 0.7705, F1 Score = 0.8093\n",
            "\n",
            "Test: Loss = 0.4926, Recall = 0.8196, F1 Score = 0.8517\n",
            "***************************************************** Fold 3/5 *****************************************************\n"
          ]
        },
        {
          "name": "stderr",
          "output_type": "stream",
          "text": [
            "Epoch 1      Train: Loss = 1.8113, Recall = 0.5894, F1 Score = 0.5895:   5%|▌         | 1/20 [00:01<00:34,  1.84s/it]"
          ]
        },
        {
          "name": "stdout",
          "output_type": "stream",
          "text": [
            "Epoch 1 Validation: Loss = 0.4897, Recall = 0.7079, F1 Score = 0.7412\n",
            "\n"
          ]
        },
        {
          "name": "stderr",
          "output_type": "stream",
          "text": [
            "Epoch 2      Train: Loss = 0.9101, Recall = 0.6497, F1 Score = 0.6702:  10%|█         | 2/20 [00:04<00:37,  2.07s/it]"
          ]
        },
        {
          "name": "stdout",
          "output_type": "stream",
          "text": [
            "Epoch 2 Validation: Loss = 0.8205, Recall = 0.5764, F1 Score = 0.5618\n",
            "\n"
          ]
        },
        {
          "name": "stderr",
          "output_type": "stream",
          "text": [
            "Epoch 3      Train: Loss = 0.6693, Recall = 0.6762, F1 Score = 0.7037:  15%|█▌        | 3/20 [00:06<00:34,  2.05s/it]"
          ]
        },
        {
          "name": "stdout",
          "output_type": "stream",
          "text": [
            "Epoch 3 Validation: Loss = 0.4835, Recall = 0.6600, F1 Score = 0.6825\n",
            "\n"
          ]
        },
        {
          "name": "stderr",
          "output_type": "stream",
          "text": [
            "Epoch 4      Train: Loss = 0.5405, Recall = 0.6743, F1 Score = 0.7019:  20%|██        | 4/20 [00:08<00:32,  2.05s/it]"
          ]
        },
        {
          "name": "stdout",
          "output_type": "stream",
          "text": [
            "Epoch 4 Validation: Loss = 0.4534, Recall = 0.7273, F1 Score = 0.7608\n",
            "\n"
          ]
        },
        {
          "name": "stderr",
          "output_type": "stream",
          "text": [
            "Epoch 5      Train: Loss = 0.5610, Recall = 0.7070, F1 Score = 0.7399:  25%|██▌       | 5/20 [00:10<00:30,  2.06s/it]"
          ]
        },
        {
          "name": "stdout",
          "output_type": "stream",
          "text": [
            "Epoch 5 Validation: Loss = 0.4401, Recall = 0.7819, F1 Score = 0.8166\n",
            "\n"
          ]
        },
        {
          "name": "stderr",
          "output_type": "stream",
          "text": [
            "Epoch 6      Train: Loss = 0.4680, Recall = 0.7203, F1 Score = 0.7552:  30%|███       | 6/20 [00:12<00:29,  2.07s/it]"
          ]
        },
        {
          "name": "stdout",
          "output_type": "stream",
          "text": [
            "Epoch 6 Validation: Loss = 0.4544, Recall = 0.6903, F1 Score = 0.7198\n",
            "\n"
          ]
        },
        {
          "name": "stderr",
          "output_type": "stream",
          "text": [
            "Epoch 7      Train: Loss = 0.4661, Recall = 0.7358, F1 Score = 0.7719:  35%|███▌      | 7/20 [00:14<00:27,  2.12s/it]"
          ]
        },
        {
          "name": "stdout",
          "output_type": "stream",
          "text": [
            "Epoch 7 Validation: Loss = 0.4463, Recall = 0.7061, F1 Score = 0.7373\n",
            "\n"
          ]
        },
        {
          "name": "stderr",
          "output_type": "stream",
          "text": [
            "Epoch 8      Train: Loss = 0.4454, Recall = 0.7342, F1 Score = 0.7710:  40%|████      | 8/20 [00:16<00:25,  2.10s/it]"
          ]
        },
        {
          "name": "stdout",
          "output_type": "stream",
          "text": [
            "Epoch 8 Validation: Loss = 0.4564, Recall = 0.7043, F1 Score = 0.7357\n",
            "\n"
          ]
        },
        {
          "name": "stderr",
          "output_type": "stream",
          "text": [
            "Epoch 9      Train: Loss = 0.4554, Recall = 0.7425, F1 Score = 0.7794:  45%|████▌     | 9/20 [00:18<00:23,  2.10s/it]"
          ]
        },
        {
          "name": "stdout",
          "output_type": "stream",
          "text": [
            "Epoch 9 Validation: Loss = 0.4513, Recall = 0.7588, F1 Score = 0.7945\n",
            "\n"
          ]
        },
        {
          "name": "stderr",
          "output_type": "stream",
          "text": [
            "Epoch 10      Train: Loss = 0.4309, Recall = 0.7467, F1 Score = 0.7840:  50%|█████     | 10/20 [00:20<00:20,  2.09s/it]"
          ]
        },
        {
          "name": "stdout",
          "output_type": "stream",
          "text": [
            "Epoch 10 Validation: Loss = 0.4533, Recall = 0.7073, F1 Score = 0.7391\n",
            "\n"
          ]
        },
        {
          "name": "stderr",
          "output_type": "stream",
          "text": [
            "Epoch 11      Train: Loss = 0.4120, Recall = 0.7634, F1 Score = 0.8010:  55%|█████▌    | 11/20 [00:22<00:18,  2.08s/it]"
          ]
        },
        {
          "name": "stdout",
          "output_type": "stream",
          "text": [
            "Epoch 11 Validation: Loss = 0.4999, Recall = 0.6521, F1 Score = 0.6724\n",
            "\n"
          ]
        },
        {
          "name": "stderr",
          "output_type": "stream",
          "text": [
            "Epoch 12      Train: Loss = 0.4220, Recall = 0.7453, F1 Score = 0.7822:  60%|██████    | 12/20 [00:25<00:16,  2.11s/it]"
          ]
        },
        {
          "name": "stdout",
          "output_type": "stream",
          "text": [
            "Epoch 12 Validation: Loss = 0.4452, Recall = 0.7649, F1 Score = 0.8006\n",
            "\n"
          ]
        },
        {
          "name": "stderr",
          "output_type": "stream",
          "text": [
            "Epoch 13      Train: Loss = 0.3957, Recall = 0.7798, F1 Score = 0.8178:  65%|██████▌   | 13/20 [00:27<00:14,  2.10s/it]"
          ]
        },
        {
          "name": "stdout",
          "output_type": "stream",
          "text": [
            "Epoch 13 Validation: Loss = 0.4642, Recall = 0.7073, F1 Score = 0.7391\n",
            "\n"
          ]
        },
        {
          "name": "stderr",
          "output_type": "stream",
          "text": [
            "Epoch 14      Train: Loss = 0.4252, Recall = 0.7664, F1 Score = 0.8043:  70%|███████   | 14/20 [00:29<00:12,  2.09s/it]"
          ]
        },
        {
          "name": "stdout",
          "output_type": "stream",
          "text": [
            "Epoch 14 Validation: Loss = 0.4540, Recall = 0.7970, F1 Score = 0.8310\n",
            "\n"
          ]
        },
        {
          "name": "stderr",
          "output_type": "stream",
          "text": [
            "Epoch 15      Train: Loss = 0.4022, Recall = 0.7826, F1 Score = 0.8203:  75%|███████▌  | 15/20 [00:31<00:10,  2.07s/it]"
          ]
        },
        {
          "name": "stdout",
          "output_type": "stream",
          "text": [
            "Epoch 15 Validation: Loss = 0.4921, Recall = 0.6903, F1 Score = 0.7198\n",
            "\n"
          ]
        },
        {
          "name": "stderr",
          "output_type": "stream",
          "text": [
            "Epoch 16      Train: Loss = 0.3996, Recall = 0.7828, F1 Score = 0.8201:  80%|████████  | 16/20 [00:33<00:08,  2.07s/it]"
          ]
        },
        {
          "name": "stdout",
          "output_type": "stream",
          "text": [
            "Epoch 16 Validation: Loss = 0.4591, Recall = 0.7770, F1 Score = 0.8126\n",
            "\n"
          ]
        },
        {
          "name": "stderr",
          "output_type": "stream",
          "text": [
            "Epoch 17      Train: Loss = 0.3818, Recall = 0.7839, F1 Score = 0.8213:  85%|████████▌ | 17/20 [00:35<00:06,  2.12s/it]"
          ]
        },
        {
          "name": "stdout",
          "output_type": "stream",
          "text": [
            "Epoch 17 Validation: Loss = 0.4662, Recall = 0.7285, F1 Score = 0.7627\n",
            "\n"
          ]
        },
        {
          "name": "stderr",
          "output_type": "stream",
          "text": [
            "Epoch 18      Train: Loss = 0.3826, Recall = 0.7873, F1 Score = 0.8248:  90%|█████████ | 18/20 [00:37<00:04,  2.10s/it]"
          ]
        },
        {
          "name": "stdout",
          "output_type": "stream",
          "text": [
            "Epoch 18 Validation: Loss = 0.4638, Recall = 0.7982, F1 Score = 0.8330\n",
            "\n"
          ]
        },
        {
          "name": "stderr",
          "output_type": "stream",
          "text": [
            "Epoch 19      Train: Loss = 0.3704, Recall = 0.7780, F1 Score = 0.8158:  95%|█████████▌| 19/20 [00:39<00:02,  2.14s/it]"
          ]
        },
        {
          "name": "stdout",
          "output_type": "stream",
          "text": [
            "Epoch 19 Validation: Loss = 0.4606, Recall = 0.8340, F1 Score = 0.8628\n",
            "\n"
          ]
        },
        {
          "name": "stderr",
          "output_type": "stream",
          "text": [
            "Epoch 20      Train: Loss = 0.3613, Recall = 0.7970, F1 Score = 0.8339: 100%|██████████| 20/20 [00:42<00:00,  2.12s/it]\n"
          ]
        },
        {
          "name": "stdout",
          "output_type": "stream",
          "text": [
            "Epoch 20 Validation: Loss = 0.4557, Recall = 0.8110, F1 Score = 0.8431\n",
            "\n",
            "Test: Loss = 0.4298, Recall = 0.7811, F1 Score = 0.8153\n",
            "***************************************************** Fold 4/5 *****************************************************\n"
          ]
        },
        {
          "name": "stderr",
          "output_type": "stream",
          "text": [
            "Epoch 1      Train: Loss = 2.4175, Recall = 0.6221, F1 Score = 0.6343:   5%|▌         | 1/20 [00:02<00:46,  2.44s/it]"
          ]
        },
        {
          "name": "stdout",
          "output_type": "stream",
          "text": [
            "Epoch 1 Validation: Loss = 0.8703, Recall = 0.7681, F1 Score = 0.7939\n",
            "\n"
          ]
        },
        {
          "name": "stderr",
          "output_type": "stream",
          "text": [
            "Epoch 2      Train: Loss = 0.8248, Recall = 0.6570, F1 Score = 0.6800:  10%|█         | 2/20 [00:04<00:44,  2.47s/it]"
          ]
        },
        {
          "name": "stdout",
          "output_type": "stream",
          "text": [
            "Epoch 2 Validation: Loss = 0.8278, Recall = 0.5595, F1 Score = 0.5303\n",
            "\n"
          ]
        },
        {
          "name": "stderr",
          "output_type": "stream",
          "text": [
            "Epoch 3      Train: Loss = 0.5995, Recall = 0.6557, F1 Score = 0.6786:  15%|█▌        | 3/20 [00:07<00:41,  2.43s/it]"
          ]
        },
        {
          "name": "stdout",
          "output_type": "stream",
          "text": [
            "Epoch 3 Validation: Loss = 0.5024, Recall = 0.6958, F1 Score = 0.7251\n",
            "\n"
          ]
        },
        {
          "name": "stderr",
          "output_type": "stream",
          "text": [
            "Epoch 4      Train: Loss = 0.5537, Recall = 0.6745, F1 Score = 0.7024:  20%|██        | 4/20 [00:10<00:41,  2.58s/it]"
          ]
        },
        {
          "name": "stdout",
          "output_type": "stream",
          "text": [
            "Epoch 4 Validation: Loss = 0.5543, Recall = 0.7677, F1 Score = 0.8019\n",
            "\n"
          ]
        },
        {
          "name": "stderr",
          "output_type": "stream",
          "text": [
            "Epoch 5      Train: Loss = 0.5228, Recall = 0.7101, F1 Score = 0.7429:  25%|██▌       | 5/20 [00:12<00:39,  2.63s/it]"
          ]
        },
        {
          "name": "stdout",
          "output_type": "stream",
          "text": [
            "Epoch 5 Validation: Loss = 0.5174, Recall = 0.6655, F1 Score = 0.6885\n",
            "\n"
          ]
        },
        {
          "name": "stderr",
          "output_type": "stream",
          "text": [
            "Epoch 6      Train: Loss = 0.4845, Recall = 0.7033, F1 Score = 0.7360:  30%|███       | 6/20 [00:15<00:36,  2.60s/it]"
          ]
        },
        {
          "name": "stdout",
          "output_type": "stream",
          "text": [
            "Epoch 6 Validation: Loss = 0.5055, Recall = 0.7267, F1 Score = 0.7608\n",
            "\n"
          ]
        },
        {
          "name": "stderr",
          "output_type": "stream",
          "text": [
            "Epoch 7      Train: Loss = 0.4911, Recall = 0.7060, F1 Score = 0.7391:  35%|███▌      | 7/20 [00:17<00:31,  2.44s/it]"
          ]
        },
        {
          "name": "stdout",
          "output_type": "stream",
          "text": [
            "Epoch 7 Validation: Loss = 0.5168, Recall = 0.8255, F1 Score = 0.8574\n",
            "\n"
          ]
        },
        {
          "name": "stderr",
          "output_type": "stream",
          "text": [
            "Epoch 8      Train: Loss = 0.4874, Recall = 0.7506, F1 Score = 0.7875:  40%|████      | 8/20 [00:19<00:27,  2.33s/it]"
          ]
        },
        {
          "name": "stdout",
          "output_type": "stream",
          "text": [
            "Epoch 8 Validation: Loss = 0.5642, Recall = 0.6761, F1 Score = 0.7017\n",
            "\n"
          ]
        },
        {
          "name": "stderr",
          "output_type": "stream",
          "text": [
            "Epoch 9      Train: Loss = 0.4750, Recall = 0.7375, F1 Score = 0.7743:  45%|████▌     | 9/20 [00:21<00:24,  2.26s/it]"
          ]
        },
        {
          "name": "stdout",
          "output_type": "stream",
          "text": [
            "Epoch 9 Validation: Loss = 0.4925, Recall = 0.6922, F1 Score = 0.7216\n",
            "\n"
          ]
        },
        {
          "name": "stderr",
          "output_type": "stream",
          "text": [
            "Epoch 10      Train: Loss = 0.4423, Recall = 0.7294, F1 Score = 0.7655:  50%|█████     | 10/20 [00:23<00:22,  2.23s/it]"
          ]
        },
        {
          "name": "stdout",
          "output_type": "stream",
          "text": [
            "Epoch 10 Validation: Loss = 0.4770, Recall = 0.7488, F1 Score = 0.7852\n",
            "\n"
          ]
        },
        {
          "name": "stderr",
          "output_type": "stream",
          "text": [
            "Epoch 11      Train: Loss = 0.4555, Recall = 0.7604, F1 Score = 0.7973:  55%|█████▌    | 11/20 [00:25<00:19,  2.17s/it]"
          ]
        },
        {
          "name": "stdout",
          "output_type": "stream",
          "text": [
            "Epoch 11 Validation: Loss = 0.4939, Recall = 0.8499, F1 Score = 0.8770\n",
            "\n"
          ]
        },
        {
          "name": "stderr",
          "output_type": "stream",
          "text": [
            "Epoch 12      Train: Loss = 0.4512, Recall = 0.7553, F1 Score = 0.7923:  60%|██████    | 12/20 [00:28<00:17,  2.15s/it]"
          ]
        },
        {
          "name": "stdout",
          "output_type": "stream",
          "text": [
            "Epoch 12 Validation: Loss = 0.4194, Recall = 0.7833, F1 Score = 0.8195\n",
            "\n"
          ]
        },
        {
          "name": "stderr",
          "output_type": "stream",
          "text": [
            "Epoch 13      Train: Loss = 0.4266, Recall = 0.7607, F1 Score = 0.7978:  65%|██████▌   | 13/20 [00:30<00:14,  2.13s/it]"
          ]
        },
        {
          "name": "stdout",
          "output_type": "stream",
          "text": [
            "Epoch 13 Validation: Loss = 0.4663, Recall = 0.7464, F1 Score = 0.7813\n",
            "\n"
          ]
        },
        {
          "name": "stderr",
          "output_type": "stream",
          "text": [
            "Epoch 14      Train: Loss = 0.4120, Recall = 0.7594, F1 Score = 0.7968:  70%|███████   | 14/20 [00:32<00:13,  2.19s/it]"
          ]
        },
        {
          "name": "stdout",
          "output_type": "stream",
          "text": [
            "Epoch 14 Validation: Loss = 0.4540, Recall = 0.8166, F1 Score = 0.8494\n",
            "\n"
          ]
        },
        {
          "name": "stderr",
          "output_type": "stream",
          "text": [
            "Epoch 15      Train: Loss = 0.4394, Recall = 0.7677, F1 Score = 0.8048:  75%|███████▌  | 15/20 [00:34<00:10,  2.16s/it]"
          ]
        },
        {
          "name": "stdout",
          "output_type": "stream",
          "text": [
            "Epoch 15 Validation: Loss = 0.4754, Recall = 0.7238, F1 Score = 0.7575\n",
            "\n"
          ]
        },
        {
          "name": "stderr",
          "output_type": "stream",
          "text": [
            "Epoch 16      Train: Loss = 0.4295, Recall = 0.7867, F1 Score = 0.8226:  80%|████████  | 16/20 [00:36<00:08,  2.16s/it]"
          ]
        },
        {
          "name": "stdout",
          "output_type": "stream",
          "text": [
            "Epoch 16 Validation: Loss = 0.5165, Recall = 0.6446, F1 Score = 0.6611\n",
            "\n"
          ]
        },
        {
          "name": "stderr",
          "output_type": "stream",
          "text": [
            "Epoch 17      Train: Loss = 0.4945, Recall = 0.7383, F1 Score = 0.7752:  85%|████████▌ | 17/20 [00:38<00:06,  2.14s/it]"
          ]
        },
        {
          "name": "stdout",
          "output_type": "stream",
          "text": [
            "Epoch 17 Validation: Loss = 0.4516, Recall = 0.8445, F1 Score = 0.8704\n",
            "\n"
          ]
        },
        {
          "name": "stderr",
          "output_type": "stream",
          "text": [
            "Epoch 18      Train: Loss = 0.4283, Recall = 0.7845, F1 Score = 0.8211:  90%|█████████ | 18/20 [00:40<00:04,  2.12s/it]"
          ]
        },
        {
          "name": "stdout",
          "output_type": "stream",
          "text": [
            "Epoch 18 Validation: Loss = 0.4354, Recall = 0.7101, F1 Score = 0.7426\n",
            "\n"
          ]
        },
        {
          "name": "stderr",
          "output_type": "stream",
          "text": [
            "Epoch 19      Train: Loss = 0.4015, Recall = 0.7824, F1 Score = 0.8186:  95%|█████████▌| 19/20 [00:43<00:02,  2.16s/it]"
          ]
        },
        {
          "name": "stdout",
          "output_type": "stream",
          "text": [
            "Epoch 19 Validation: Loss = 0.4313, Recall = 0.7731, F1 Score = 0.8087\n",
            "\n"
          ]
        },
        {
          "name": "stderr",
          "output_type": "stream",
          "text": [
            "Epoch 20      Train: Loss = 0.4271, Recall = 0.7820, F1 Score = 0.8191: 100%|██████████| 20/20 [00:45<00:00,  2.27s/it]\n"
          ]
        },
        {
          "name": "stdout",
          "output_type": "stream",
          "text": [
            "Epoch 20 Validation: Loss = 0.4978, Recall = 0.6684, F1 Score = 0.6923\n",
            "\n",
            "Test: Loss = 0.4621, Recall = 0.7944, F1 Score = 0.8296\n",
            "***************************************************** Fold 5/5 *****************************************************\n"
          ]
        },
        {
          "name": "stderr",
          "output_type": "stream",
          "text": [
            "Epoch 1      Train: Loss = 1.7530, Recall = 0.5988, F1 Score = 0.6039:   5%|▌         | 1/20 [00:02<00:40,  2.14s/it]"
          ]
        },
        {
          "name": "stdout",
          "output_type": "stream",
          "text": [
            "Epoch 1 Validation: Loss = 0.6353, Recall = 0.7592, F1 Score = 0.7892\n",
            "\n"
          ]
        },
        {
          "name": "stderr",
          "output_type": "stream",
          "text": [
            "Epoch 2      Train: Loss = 0.7432, Recall = 0.6475, F1 Score = 0.6690:  10%|█         | 2/20 [00:04<00:38,  2.16s/it]"
          ]
        },
        {
          "name": "stdout",
          "output_type": "stream",
          "text": [
            "Epoch 2 Validation: Loss = 0.5267, Recall = 0.6281, F1 Score = 0.6327\n",
            "\n"
          ]
        },
        {
          "name": "stderr",
          "output_type": "stream",
          "text": [
            "Epoch 3      Train: Loss = 0.5678, Recall = 0.6732, F1 Score = 0.7019:  15%|█▌        | 3/20 [00:06<00:36,  2.14s/it]"
          ]
        },
        {
          "name": "stdout",
          "output_type": "stream",
          "text": [
            "Epoch 3 Validation: Loss = 0.6609, Recall = 0.8017, F1 Score = 0.8269\n",
            "\n"
          ]
        },
        {
          "name": "stderr",
          "output_type": "stream",
          "text": [
            "Epoch 4      Train: Loss = 0.5890, Recall = 0.7113, F1 Score = 0.7460:  20%|██        | 4/20 [00:08<00:34,  2.18s/it]"
          ]
        },
        {
          "name": "stdout",
          "output_type": "stream",
          "text": [
            "Epoch 4 Validation: Loss = 0.4956, Recall = 0.7561, F1 Score = 0.7871\n",
            "\n"
          ]
        },
        {
          "name": "stderr",
          "output_type": "stream",
          "text": [
            "Epoch 5      Train: Loss = 0.5338, Recall = 0.7114, F1 Score = 0.7466:  25%|██▌       | 5/20 [00:10<00:32,  2.15s/it]"
          ]
        },
        {
          "name": "stdout",
          "output_type": "stream",
          "text": [
            "Epoch 5 Validation: Loss = 0.5039, Recall = 0.6768, F1 Score = 0.6974\n",
            "\n"
          ]
        },
        {
          "name": "stderr",
          "output_type": "stream",
          "text": [
            "Epoch 6      Train: Loss = 0.4859, Recall = 0.7259, F1 Score = 0.7622:  30%|███       | 6/20 [00:13<00:30,  2.20s/it]"
          ]
        },
        {
          "name": "stdout",
          "output_type": "stream",
          "text": [
            "Epoch 6 Validation: Loss = 0.4635, Recall = 0.7647, F1 Score = 0.7948\n",
            "\n"
          ]
        },
        {
          "name": "stderr",
          "output_type": "stream",
          "text": [
            "Epoch 7      Train: Loss = 0.4722, Recall = 0.7236, F1 Score = 0.7602:  35%|███▌      | 7/20 [00:15<00:28,  2.16s/it]"
          ]
        },
        {
          "name": "stdout",
          "output_type": "stream",
          "text": [
            "Epoch 7 Validation: Loss = 0.4671, Recall = 0.8067, F1 Score = 0.8344\n",
            "\n"
          ]
        },
        {
          "name": "stderr",
          "output_type": "stream",
          "text": [
            "Epoch 8      Train: Loss = 0.4699, Recall = 0.7346, F1 Score = 0.7715:  40%|████      | 8/20 [00:17<00:26,  2.18s/it]"
          ]
        },
        {
          "name": "stdout",
          "output_type": "stream",
          "text": [
            "Epoch 8 Validation: Loss = 0.4406, Recall = 0.7574, F1 Score = 0.7890\n",
            "\n"
          ]
        },
        {
          "name": "stderr",
          "output_type": "stream",
          "text": [
            "Epoch 9      Train: Loss = 0.4724, Recall = 0.7385, F1 Score = 0.7757:  45%|████▌     | 9/20 [00:19<00:23,  2.16s/it]"
          ]
        },
        {
          "name": "stdout",
          "output_type": "stream",
          "text": [
            "Epoch 9 Validation: Loss = 0.4456, Recall = 0.7453, F1 Score = 0.7747\n",
            "\n"
          ]
        },
        {
          "name": "stderr",
          "output_type": "stream",
          "text": [
            "Epoch 10      Train: Loss = 0.4424, Recall = 0.7519, F1 Score = 0.7890:  50%|█████     | 10/20 [00:21<00:21,  2.16s/it]"
          ]
        },
        {
          "name": "stdout",
          "output_type": "stream",
          "text": [
            "Epoch 10 Validation: Loss = 0.4165, Recall = 0.7644, F1 Score = 0.7957\n",
            "\n"
          ]
        },
        {
          "name": "stderr",
          "output_type": "stream",
          "text": [
            "Epoch 11      Train: Loss = 0.4504, Recall = 0.7325, F1 Score = 0.7695:  55%|█████▌    | 11/20 [00:23<00:19,  2.19s/it]"
          ]
        },
        {
          "name": "stdout",
          "output_type": "stream",
          "text": [
            "Epoch 11 Validation: Loss = 0.4247, Recall = 0.7478, F1 Score = 0.7784\n",
            "\n"
          ]
        },
        {
          "name": "stderr",
          "output_type": "stream",
          "text": [
            "Epoch 12      Train: Loss = 0.4240, Recall = 0.7553, F1 Score = 0.7936:  60%|██████    | 12/20 [00:26<00:17,  2.18s/it]"
          ]
        },
        {
          "name": "stdout",
          "output_type": "stream",
          "text": [
            "Epoch 12 Validation: Loss = 0.3955, Recall = 0.7626, F1 Score = 0.7956\n",
            "\n"
          ]
        },
        {
          "name": "stderr",
          "output_type": "stream",
          "text": [
            "Epoch 13      Train: Loss = 0.4277, Recall = 0.7661, F1 Score = 0.8043:  65%|██████▌   | 13/20 [00:28<00:15,  2.22s/it]"
          ]
        },
        {
          "name": "stdout",
          "output_type": "stream",
          "text": [
            "Epoch 13 Validation: Loss = 0.4222, Recall = 0.7083, F1 Score = 0.7361\n",
            "\n"
          ]
        },
        {
          "name": "stderr",
          "output_type": "stream",
          "text": [
            "Epoch 14      Train: Loss = 0.4206, Recall = 0.7604, F1 Score = 0.7980:  70%|███████   | 14/20 [00:30<00:13,  2.18s/it]"
          ]
        },
        {
          "name": "stdout",
          "output_type": "stream",
          "text": [
            "Epoch 14 Validation: Loss = 0.3918, Recall = 0.7278, F1 Score = 0.7584\n",
            "\n"
          ]
        },
        {
          "name": "stderr",
          "output_type": "stream",
          "text": [
            "Epoch 15      Train: Loss = 0.4153, Recall = 0.7779, F1 Score = 0.8160:  75%|███████▌  | 15/20 [00:32<00:10,  2.15s/it]"
          ]
        },
        {
          "name": "stdout",
          "output_type": "stream",
          "text": [
            "Epoch 15 Validation: Loss = 0.4005, Recall = 0.7417, F1 Score = 0.7738\n",
            "\n"
          ]
        },
        {
          "name": "stderr",
          "output_type": "stream",
          "text": [
            "Epoch 16      Train: Loss = 0.4018, Recall = 0.7791, F1 Score = 0.8180:  80%|████████  | 16/20 [00:34<00:08,  2.15s/it]"
          ]
        },
        {
          "name": "stdout",
          "output_type": "stream",
          "text": [
            "Epoch 16 Validation: Loss = 0.4285, Recall = 0.7194, F1 Score = 0.7490\n",
            "\n"
          ]
        },
        {
          "name": "stderr",
          "output_type": "stream",
          "text": [
            "Epoch 17      Train: Loss = 0.4188, Recall = 0.7677, F1 Score = 0.8066:  85%|████████▌ | 17/20 [00:37<00:06,  2.29s/it]"
          ]
        },
        {
          "name": "stdout",
          "output_type": "stream",
          "text": [
            "Epoch 17 Validation: Loss = 0.5529, Recall = 0.9038, F1 Score = 0.9100\n",
            "\n"
          ]
        },
        {
          "name": "stderr",
          "output_type": "stream",
          "text": [
            "Epoch 18      Train: Loss = 0.4088, Recall = 0.7898, F1 Score = 0.8274:  90%|█████████ | 18/20 [00:39<00:04,  2.35s/it]"
          ]
        },
        {
          "name": "stdout",
          "output_type": "stream",
          "text": [
            "Epoch 18 Validation: Loss = 0.3995, Recall = 0.8261, F1 Score = 0.8522\n",
            "\n"
          ]
        },
        {
          "name": "stderr",
          "output_type": "stream",
          "text": [
            "Epoch 19      Train: Loss = 0.4282, Recall = 0.7679, F1 Score = 0.8063:  95%|█████████▌| 19/20 [00:42<00:02,  2.36s/it]"
          ]
        },
        {
          "name": "stdout",
          "output_type": "stream",
          "text": [
            "Epoch 19 Validation: Loss = 0.3875, Recall = 0.7682, F1 Score = 0.8013\n",
            "\n"
          ]
        },
        {
          "name": "stderr",
          "output_type": "stream",
          "text": [
            "Epoch 20      Train: Loss = 0.4203, Recall = 0.7840, F1 Score = 0.8216: 100%|██████████| 20/20 [00:44<00:00,  2.24s/it]"
          ]
        },
        {
          "name": "stdout",
          "output_type": "stream",
          "text": [
            "Epoch 20 Validation: Loss = 0.4093, Recall = 0.7644, F1 Score = 0.7957\n",
            "\n",
            "Test: Loss = 0.4764, Recall = 0.8731, F1 Score = 0.8929\n",
            "\n",
            "Average Recall across 5 folds: 0.812\n",
            "\n",
            "Recall std across 5 folds: 0.033\n",
            "\n",
            "Average F1-Score across 5 folds: 0.843\n",
            "\n",
            "F1-Score std across 5 folds: 0.028\n"
          ]
        },
        {
          "name": "stderr",
          "output_type": "stream",
          "text": [
            "\n"
          ]
        }
      ],
      "source": [
        "# MODEL TRAINING (INCLUDE)\n",
        "# Hyper-parameters\n",
        "num_epochs = 20\n",
        "threshold = 0.5\n",
        "lr = 0.005\n",
        "weight_decay=0.001\n",
        "\n",
        "# Initialize the GCN model, loss function, and optimizer\n",
        "device = torch.device(\"cuda\" if torch.cuda.is_available() else \"cpu\")\n",
        "\n",
        "dataset_train, testing_dataset, pos_weight = split_sets(device)\n",
        "\n",
        "results = cross_validation(dataset_train, testing_dataset, device, threshold, num_epochs,  lr, weight_decay, pos_weight, num_folds=5)\n",
        "best_model_wts, all_train_recalls, all_train_f1s, all_train_losses, all_valid_recalls, all_valid_f1s, all_valid_losses  = results"
      ]
    },
    {
      "cell_type": "code",
      "execution_count": 81,
      "metadata": {},
      "outputs": [],
      "source": [
        "# COMPARE TWO GRAPHS (DON'T INCLUDE)\n",
        "def is_same_graph(graph1, graph2):\n",
        "    x_eq = torch.equal(graph1.x, graph2.x)\n",
        "    y_eq = np.all(np.array(graph1.y)==np.array(graph2.y))\n",
        "    graph_embedding_eq = graph1.graph_embedding[0] == graph2.graph_embedding[0]\n",
        "    return x_eq and y_eq and graph_embedding_eq.all()\n",
        "test_idx = []\n",
        "dataset = torch.load('data/processed_data/processed_data_' + dataset_date + '_' + level1_node +'/dataset.pt')\n",
        "for d in dataset:\n",
        "    x = d.x[:, :2]\n",
        "    scaler = StandardScaler()\n",
        "    scaler.fit(x)\n",
        "    scaled_x = scaler.transform(x)\n",
        "    d.x[:,:2] = torch.tensor(scaled_x)\n",
        "for idx, d in enumerate(dataset):\n",
        "    for td in testing_dataset:\n",
        "        if is_same_graph(td, d):\n",
        "            test_idx.append(idx)"
      ]
    },
    {
      "cell_type": "code",
      "execution_count": 82,
      "metadata": {},
      "outputs": [],
      "source": [
        "# SAVE BEST MODEL WEIGHTS AND TEST IDX (INCLUDE)\n",
        "torch.save(best_model_wts, saving_folder +\"best_model_wts.pt\")\n",
        "np.save(saving_folder + \"test_idx.npy\", np.array(test_idx))"
      ]
    },
    {
      "cell_type": "code",
      "execution_count": 16,
      "metadata": {},
      "outputs": [],
      "source": [
        "# PLOT METRIC (INCLUDE)\n",
        "def plot_metric(train_values, valid_values, metric_name, log=False):\n",
        "    mean_train_values = np.mean(train_values, axis=0)\n",
        "    std_train_values = np.std(train_values, axis=0)\n",
        "\n",
        "    mean_val_values = np.mean(valid_values, axis=0)\n",
        "    std_val_values = np.std(valid_values, axis=0)\n",
        "\n",
        "    epochs = np.arange(1, len(mean_train_values) + 1)\n",
        "    plt.errorbar(epochs, mean_train_values, yerr=std_train_values, label='Training', capsize=3)\n",
        "    plt.errorbar(epochs, mean_val_values, yerr=std_val_values, label='Validation', capsize=3)\n",
        "    plt.xlabel('Epochs')\n",
        "    plt.xticks(range(0, len(mean_train_values) + 1, 5))\n",
        "    if log:\n",
        "        plt.yscale('log')\n",
        "        plt.ylabel(f'{metric_name} (log-scale)')\n",
        "    else:\n",
        "        plt.ylabel(metric_name)\n",
        "    #plt.title(f'{metric_name} for quantified metabolites on \"{level1_node}\" terminal nodes')\n",
        "    plt.legend()\n",
        "    plt.savefig(saving_folder + f\"evolution_{metric_name.lower()}\")"
      ]
    },
    {
      "cell_type": "code",
      "execution_count": 18,
      "metadata": {},
      "outputs": [],
      "source": [
        "import numpy as np\n",
        "import seaborn as sns\n",
        "import matplotlib.pyplot as plt\n",
        "\n",
        "def plot_metric(train_values, valid_values, metric_name, log=False):\n",
        "    mean_train_values = np.mean(train_values, axis=0)\n",
        "    std_train_values = np.std(train_values, axis=0)\n",
        "    mean_val_values = np.mean(valid_values, axis=0)\n",
        "    std_val_values = np.std(valid_values, axis=0)\n",
        "    palette = sns.color_palette(\"mako_r\", 2)\n",
        "    epochs = np.arange(1, len(mean_train_values) + 1)\n",
        "\n",
        "    plt.figure(figsize=(10, 6))\n",
        "\n",
        "    sns.lineplot(x=np.concatenate([epochs, epochs]),\n",
        "                 y=np.concatenate([mean_train_values, mean_val_values]),\n",
        "                 hue=['Training'] * len(mean_train_values) + ['Validation'] * len(mean_val_values),\n",
        "                 palette = palette,\n",
        "                 errorbar='sd')\n",
        "\n",
        "    plt.xlabel('Epochs')\n",
        "    plt.xticks(range(0, len(mean_train_values) + 1, 5))\n",
        "    plt.grid(True, linestyle='--', alpha=0.7)\n",
        "    if log:\n",
        "        plt.yscale('log')\n",
        "        plt.ylabel(f'{metric_name} (log-scale)')\n",
        "    else:\n",
        "        plt.ylabel(metric_name)\n",
        "\n",
        "    plt.legend()\n",
        "    plt.savefig(saving_folder + f\"evolution_{metric_name.lower()}\")\n"
      ]
    },
    {
      "cell_type": "code",
      "execution_count": 83,
      "metadata": {},
      "outputs": [
        {
          "data": {
            "image/png": "[encoded data removed]",
            "text/plain": [
              "<Figure size 720x432 with 1 Axes>"
            ]
          },
          "metadata": {
            "needs_background": "light"
          },
          "output_type": "display_data"
        }
      ],
      "source": [
        "plot_metric(all_train_recalls, all_valid_recalls, \"Recall\", log=False)"
      ]
    },
    {
      "cell_type": "code",
      "execution_count": 84,
      "metadata": {},
      "outputs": [
        {
          "data": {
            "image/png": "[encoded data removed]",
            "text/plain": [
              "<Figure size 720x432 with 1 Axes>"
            ]
          },
          "metadata": {
            "needs_background": "light"
          },
          "output_type": "display_data"
        }
      ],
      "source": [
        "plot_metric(all_train_f1s, all_valid_f1s, \"F1-Score\", log=False)"
      ]
    },
    {
      "cell_type": "code",
      "execution_count": 85,
      "metadata": {},
      "outputs": [
        {
          "data": {
            "image/png": "[encoded data removed]",
            "text/plain": [
              "<Figure size 720x432 with 1 Axes>"
            ]
          },
          "metadata": {
            "needs_background": "light"
          },
          "output_type": "display_data"
        }
      ],
      "source": [
        "plot_metric(all_train_losses, all_valid_losses, \"Loss\", log=True)"
      ]
    }
  ],
  "metadata": {
    "colab": {
      "provenance": []
    },
    "kernelspec": {
      "display_name": "Python 3",
      "name": "python3"
    },
    "language_info": {
      "codemirror_mode": {
        "name": "ipython",
        "version": 3
      },
      "file_extension": ".py",
      "mimetype": "text/x-python",
      "name": "python",
      "nbconvert_exporter": "python",
      "pygments_lexer": "ipython3",
      "version": "3.9.16"
    }
  },
  "nbformat": 4,
  "nbformat_minor": 0
}
